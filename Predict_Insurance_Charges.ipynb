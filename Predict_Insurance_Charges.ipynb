{
  "nbformat": 4,
  "nbformat_minor": 0,
  "metadata": {
    "kernelspec": {
      "display_name": "Python 3",
      "language": "python",
      "name": "python3"
    },
    "language_info": {
      "codemirror_mode": {
        "name": "ipython",
        "version": 3
      },
      "file_extension": ".py",
      "mimetype": "text/x-python",
      "name": "python",
      "nbconvert_exporter": "python",
      "pygments_lexer": "ipython3",
      "version": "3.8.5"
    },
    "colab": {
      "name": "02-insurance-linear.ipynb",
      "provenance": [],
      "include_colab_link": true
    }
  },
  "cells": [
    {
      "cell_type": "markdown",
      "metadata": {
        "id": "view-in-github",
        "colab_type": "text"
      },
      "source": [
        "<a href=\"https://colab.research.google.com/github/pushpendra-aibot/MyWork/blob/master/Predict_Insurance_Charges.ipynb\" target=\"_parent\"><img src=\"https://colab.research.google.com/assets/colab-badge.svg\" alt=\"Open In Colab\"/></a>"
      ]
    },
    {
      "cell_type": "code",
      "metadata": {
        "colab": {
          "base_uri": "https://localhost:8080/"
        },
        "id": "KotrjtdT5xK4",
        "outputId": "f0e2c1e7-ca4b-4bca-dd43-71f61caf6459"
      },
      "source": [
        "# Jovian Commit Essentials\n",
        "# Please retain and execute this cell without modifying the contents for `jovian.commit` to work\n",
        "!pip install jovian --upgrade -q\n",
        "import jovian\n",
        "jovian.utils.colab.set_colab_file_id('1fNTBFUnaC5daJnc8d6QNmUlX8a_AYT2H')"
      ],
      "execution_count": 1,
      "outputs": [
        {
          "output_type": "stream",
          "text": [
            "\u001b[?25l\r\u001b[K     |█████                           | 10kB 27.2MB/s eta 0:00:01\r\u001b[K     |██████████                      | 20kB 15.1MB/s eta 0:00:01\r\u001b[K     |██████████████▉                 | 30kB 12.9MB/s eta 0:00:01\r\u001b[K     |███████████████████▉            | 40kB 13.3MB/s eta 0:00:01\r\u001b[K     |████████████████████████▉       | 51kB 15.5MB/s eta 0:00:01\r\u001b[K     |█████████████████████████████▊  | 61kB 15.5MB/s eta 0:00:01\r\u001b[K     |████████████████████████████████| 71kB 5.5MB/s \n",
            "\u001b[?25h  Building wheel for uuid (setup.py) ... \u001b[?25l\u001b[?25hdone\n"
          ],
          "name": "stdout"
        }
      ]
    },
    {
      "cell_type": "markdown",
      "metadata": {
        "_cell_guid": "b1076dfc-b9ad-4769-8c92-a6c4dae69d19",
        "_uuid": "8f2839f25d086af736a60e9eeb907d3b93b6e0e5",
        "id": "145ptvJZ5xLX"
      },
      "source": [
        "# Insurance cost prediction using linear regression\n",
        "\n",
        "Make a submisson here: https://jovian.ai/learn/deep-learning-with-pytorch-zero-to-gans/assignment/assignment-2-train-your-first-model\n",
        "\n",
        "In this assignment we're going to use information like a person's age, sex, BMI, no. of children and smoking habit to predict the price of yearly medical bills. This kind of model is useful for insurance companies to determine the yearly insurance premium for a person. The dataset for this problem is taken from [Kaggle](https://www.kaggle.com/mirichoi0218/insurance).\n",
        "\n",
        "\n",
        "We will create a model with the following steps:\n",
        "1. Download and explore the dataset\n",
        "2. Prepare the dataset for training\n",
        "3. Create a linear regression model\n",
        "4. Train the model to fit the data\n",
        "5. Make predictions using the trained model\n",
        "\n",
        "\n",
        "This assignment builds upon the concepts from the first 2 lessons. It will help to review these Jupyter notebooks:\n",
        "- PyTorch basics: https://jovian.ai/aakashns/01-pytorch-basics\n",
        "- Linear Regression: https://jovian.ai/aakashns/02-linear-regression\n",
        "- Logistic Regression: https://jovian.ai/aakashns/03-logistic-regression\n",
        "- Linear regression (minimal): https://jovian.ai/aakashns/housing-linear-minimal\n",
        "- Logistic regression (minimal): https://jovian.ai/aakashns/mnist-logistic-minimal\n",
        "\n",
        "As you go through this notebook, you will find a **???** in certain places. Your job is to replace the **???** with appropriate code or values, to ensure that the notebook runs properly end-to-end . In some cases, you'll be required to choose some hyperparameters (learning rate, batch size etc.). Try to experiment with the hypeparameters to get the lowest loss.\n"
      ]
    },
    {
      "cell_type": "code",
      "metadata": {
        "id": "qru2mcyX5xLa"
      },
      "source": [
        "# Uncomment and run the appropriate command for your operating system, if required\n",
        "\n",
        "# Linux / Binder\n",
        "# !pip install numpy matplotlib pandas torch==1.7.0+cpu torchvision==0.8.1+cpu torchaudio==0.7.0 -f https://download.pytorch.org/whl/torch_stable.html\n",
        "\n",
        "# Windows\n",
        "# !pip install numpy matplotlib pandas torch==1.7.0+cpu torchvision==0.8.1+cpu torchaudio==0.7.0 -f https://download.pytorch.org/whl/torch_stable.html\n",
        "\n",
        "# MacOS\n",
        "# !pip install numpy matplotlib pandas torch torchvision torchaudio"
      ],
      "execution_count": 2,
      "outputs": []
    },
    {
      "cell_type": "code",
      "metadata": {
        "id": "CFOA36fS5xLc"
      },
      "source": [
        "import torch\n",
        "import jovian\n",
        "import torchvision\n",
        "import torch.nn as nn\n",
        "import pandas as pd\n",
        "import matplotlib.pyplot as plt\n",
        "import torch.nn.functional as F\n",
        "from torchvision.datasets.utils import download_url\n",
        "from torch.utils.data import DataLoader, TensorDataset, random_split"
      ],
      "execution_count": 3,
      "outputs": []
    },
    {
      "cell_type": "code",
      "metadata": {
        "id": "3-ReJt565xLd"
      },
      "source": [
        "project_name='02-insurance-linear-regression' # will be used by jovian.commit"
      ],
      "execution_count": 4,
      "outputs": []
    },
    {
      "cell_type": "markdown",
      "metadata": {
        "id": "wd2G893D5xLe"
      },
      "source": [
        "## Step 1: Download and explore the data\n",
        "\n",
        "Let us begin by downloading the data. We'll use the `download_url` function from PyTorch to get the data as a CSV (comma-separated values) file. "
      ]
    },
    {
      "cell_type": "code",
      "metadata": {
        "_cell_guid": "79c7e3d0-c299-4dcb-8224-4455121ee9b0",
        "_uuid": "d629ff2d2480ee46fbb7e2d37f6b5fab8052498a",
        "colab": {
          "base_uri": "https://localhost:8080/"
        },
        "id": "9MSOtVnO5xLe",
        "outputId": "68850daf-d330-49c7-a788-fc593b6d0ab3"
      },
      "source": [
        "DATASET_URL = \"https://hub.jovian.ml/wp-content/uploads/2020/05/insurance.csv\"\n",
        "DATA_FILENAME = \"insurance.csv\"\n",
        "download_url(DATASET_URL, '.')"
      ],
      "execution_count": 6,
      "outputs": [
        {
          "output_type": "stream",
          "text": [
            "Using downloaded and verified file: ./insurance.csv\n"
          ],
          "name": "stdout"
        }
      ]
    },
    {
      "cell_type": "markdown",
      "metadata": {
        "id": "4D71qK9m5xLj"
      },
      "source": [
        "To load the dataset into memory, we'll use the `read_csv` function from the `pandas` library. The data will be loaded as a Pandas dataframe. See this short tutorial to learn more: https://data36.com/pandas-tutorial-1-basics-reading-data-files-dataframes-data-selection/"
      ]
    },
    {
      "cell_type": "code",
      "metadata": {
        "colab": {
          "base_uri": "https://localhost:8080/",
          "height": 204
        },
        "id": "a5vRu9nb5xLk",
        "outputId": "ee52b61d-e0de-4d95-d866-634567d706ec"
      },
      "source": [
        "dataframe_raw = pd.read_csv(DATA_FILENAME)\n",
        "dataframe_raw.head()"
      ],
      "execution_count": 7,
      "outputs": [
        {
          "output_type": "execute_result",
          "data": {
            "text/html": [
              "<div>\n",
              "<style scoped>\n",
              "    .dataframe tbody tr th:only-of-type {\n",
              "        vertical-align: middle;\n",
              "    }\n",
              "\n",
              "    .dataframe tbody tr th {\n",
              "        vertical-align: top;\n",
              "    }\n",
              "\n",
              "    .dataframe thead th {\n",
              "        text-align: right;\n",
              "    }\n",
              "</style>\n",
              "<table border=\"1\" class=\"dataframe\">\n",
              "  <thead>\n",
              "    <tr style=\"text-align: right;\">\n",
              "      <th></th>\n",
              "      <th>age</th>\n",
              "      <th>sex</th>\n",
              "      <th>bmi</th>\n",
              "      <th>children</th>\n",
              "      <th>smoker</th>\n",
              "      <th>region</th>\n",
              "      <th>charges</th>\n",
              "    </tr>\n",
              "  </thead>\n",
              "  <tbody>\n",
              "    <tr>\n",
              "      <th>0</th>\n",
              "      <td>19</td>\n",
              "      <td>female</td>\n",
              "      <td>27.900</td>\n",
              "      <td>0</td>\n",
              "      <td>yes</td>\n",
              "      <td>southwest</td>\n",
              "      <td>16884.92400</td>\n",
              "    </tr>\n",
              "    <tr>\n",
              "      <th>1</th>\n",
              "      <td>18</td>\n",
              "      <td>male</td>\n",
              "      <td>33.770</td>\n",
              "      <td>1</td>\n",
              "      <td>no</td>\n",
              "      <td>southeast</td>\n",
              "      <td>1725.55230</td>\n",
              "    </tr>\n",
              "    <tr>\n",
              "      <th>2</th>\n",
              "      <td>28</td>\n",
              "      <td>male</td>\n",
              "      <td>33.000</td>\n",
              "      <td>3</td>\n",
              "      <td>no</td>\n",
              "      <td>southeast</td>\n",
              "      <td>4449.46200</td>\n",
              "    </tr>\n",
              "    <tr>\n",
              "      <th>3</th>\n",
              "      <td>33</td>\n",
              "      <td>male</td>\n",
              "      <td>22.705</td>\n",
              "      <td>0</td>\n",
              "      <td>no</td>\n",
              "      <td>northwest</td>\n",
              "      <td>21984.47061</td>\n",
              "    </tr>\n",
              "    <tr>\n",
              "      <th>4</th>\n",
              "      <td>32</td>\n",
              "      <td>male</td>\n",
              "      <td>28.880</td>\n",
              "      <td>0</td>\n",
              "      <td>no</td>\n",
              "      <td>northwest</td>\n",
              "      <td>3866.85520</td>\n",
              "    </tr>\n",
              "  </tbody>\n",
              "</table>\n",
              "</div>"
            ],
            "text/plain": [
              "   age     sex     bmi  children smoker     region      charges\n",
              "0   19  female  27.900         0    yes  southwest  16884.92400\n",
              "1   18    male  33.770         1     no  southeast   1725.55230\n",
              "2   28    male  33.000         3     no  southeast   4449.46200\n",
              "3   33    male  22.705         0     no  northwest  21984.47061\n",
              "4   32    male  28.880         0     no  northwest   3866.85520"
            ]
          },
          "metadata": {
            "tags": []
          },
          "execution_count": 7
        }
      ]
    },
    {
      "cell_type": "markdown",
      "metadata": {
        "id": "aYxpNhhD5xLl"
      },
      "source": [
        "We're going to do a slight customization of the data, so that you every participant receives a slightly different version of the dataset. Fill in your name below as a string (enter at least 5 characters)"
      ]
    },
    {
      "cell_type": "code",
      "metadata": {
        "id": "FVzcDqWx5xLl"
      },
      "source": [
        "your_name = 'Pushpendra'"
      ],
      "execution_count": 8,
      "outputs": []
    },
    {
      "cell_type": "markdown",
      "metadata": {
        "id": "KBsDwQ6Y5xLm"
      },
      "source": [
        "The `customize_dataset` function will customize the dataset slightly using your name as a source of random numbers."
      ]
    },
    {
      "cell_type": "code",
      "metadata": {
        "id": "-y_xJb4t5xLm"
      },
      "source": [
        "def customize_dataset(dataframe_raw, rand_str):\n",
        "    dataframe = dataframe_raw.copy(deep=True)\n",
        "    # drop some rows\n",
        "    dataframe = dataframe.sample(int(0.95*len(dataframe)), random_state=int(ord(rand_str[0])))\n",
        "    # scale input\n",
        "    dataframe.bmi = dataframe.bmi * ord(rand_str[1])/100.\n",
        "    # scale target\n",
        "    dataframe.charges = dataframe.charges * ord(rand_str[2])/100.\n",
        "    # drop column\n",
        "    if ord(rand_str[3]) % 2 == 1:\n",
        "        dataframe = dataframe.drop(['region'], axis=1)\n",
        "    return dataframe"
      ],
      "execution_count": 9,
      "outputs": []
    },
    {
      "cell_type": "code",
      "metadata": {
        "colab": {
          "base_uri": "https://localhost:8080/",
          "height": 204
        },
        "id": "9lm1HG2s5xLn",
        "outputId": "9012851b-33c4-4c1d-cede-5a5f11d65944"
      },
      "source": [
        "dataframe = customize_dataset(dataframe_raw, your_name)\n",
        "dataframe.head()"
      ],
      "execution_count": 10,
      "outputs": [
        {
          "output_type": "execute_result",
          "data": {
            "text/html": [
              "<div>\n",
              "<style scoped>\n",
              "    .dataframe tbody tr th:only-of-type {\n",
              "        vertical-align: middle;\n",
              "    }\n",
              "\n",
              "    .dataframe tbody tr th {\n",
              "        vertical-align: top;\n",
              "    }\n",
              "\n",
              "    .dataframe thead th {\n",
              "        text-align: right;\n",
              "    }\n",
              "</style>\n",
              "<table border=\"1\" class=\"dataframe\">\n",
              "  <thead>\n",
              "    <tr style=\"text-align: right;\">\n",
              "      <th></th>\n",
              "      <th>age</th>\n",
              "      <th>sex</th>\n",
              "      <th>bmi</th>\n",
              "      <th>children</th>\n",
              "      <th>smoker</th>\n",
              "      <th>region</th>\n",
              "      <th>charges</th>\n",
              "    </tr>\n",
              "  </thead>\n",
              "  <tbody>\n",
              "    <tr>\n",
              "      <th>240</th>\n",
              "      <td>23</td>\n",
              "      <td>female</td>\n",
              "      <td>42.9039</td>\n",
              "      <td>2</td>\n",
              "      <td>yes</td>\n",
              "      <td>northeast</td>\n",
              "      <td>44288.372545</td>\n",
              "    </tr>\n",
              "    <tr>\n",
              "      <th>651</th>\n",
              "      <td>53</td>\n",
              "      <td>female</td>\n",
              "      <td>46.3320</td>\n",
              "      <td>1</td>\n",
              "      <td>no</td>\n",
              "      <td>southeast</td>\n",
              "      <td>12166.667650</td>\n",
              "    </tr>\n",
              "    <tr>\n",
              "      <th>761</th>\n",
              "      <td>23</td>\n",
              "      <td>male</td>\n",
              "      <td>41.1840</td>\n",
              "      <td>1</td>\n",
              "      <td>no</td>\n",
              "      <td>southwest</td>\n",
              "      <td>2779.498250</td>\n",
              "    </tr>\n",
              "    <tr>\n",
              "      <th>836</th>\n",
              "      <td>36</td>\n",
              "      <td>male</td>\n",
              "      <td>36.8550</td>\n",
              "      <td>0</td>\n",
              "      <td>no</td>\n",
              "      <td>southwest</td>\n",
              "      <td>5062.567950</td>\n",
              "    </tr>\n",
              "    <tr>\n",
              "      <th>1147</th>\n",
              "      <td>20</td>\n",
              "      <td>female</td>\n",
              "      <td>37.3464</td>\n",
              "      <td>0</td>\n",
              "      <td>no</td>\n",
              "      <td>northwest</td>\n",
              "      <td>2600.804120</td>\n",
              "    </tr>\n",
              "  </tbody>\n",
              "</table>\n",
              "</div>"
            ],
            "text/plain": [
              "      age     sex      bmi  children smoker     region       charges\n",
              "240    23  female  42.9039         2    yes  northeast  44288.372545\n",
              "651    53  female  46.3320         1     no  southeast  12166.667650\n",
              "761    23    male  41.1840         1     no  southwest   2779.498250\n",
              "836    36    male  36.8550         0     no  southwest   5062.567950\n",
              "1147   20  female  37.3464         0     no  northwest   2600.804120"
            ]
          },
          "metadata": {
            "tags": []
          },
          "execution_count": 10
        }
      ]
    },
    {
      "cell_type": "markdown",
      "metadata": {
        "id": "hRCB6_kl5xLn"
      },
      "source": [
        "Let us answer some basic questions about the dataset. \n",
        "\n",
        "\n",
        "**Q: How many rows does the dataset have?**"
      ]
    },
    {
      "cell_type": "code",
      "metadata": {
        "colab": {
          "base_uri": "https://localhost:8080/"
        },
        "id": "DvQyOSyU5xLo",
        "outputId": "844583c3-812e-4814-ef0e-495e9473aade"
      },
      "source": [
        "num_rows = dataframe.shape[0]\n",
        "print(num_rows)"
      ],
      "execution_count": 11,
      "outputs": [
        {
          "output_type": "stream",
          "text": [
            "1271\n"
          ],
          "name": "stdout"
        }
      ]
    },
    {
      "cell_type": "markdown",
      "metadata": {
        "id": "nsoI4UBq5xLo"
      },
      "source": [
        "**Q: How many columns doe the dataset have**"
      ]
    },
    {
      "cell_type": "code",
      "metadata": {
        "colab": {
          "base_uri": "https://localhost:8080/"
        },
        "id": "pw1DqAmb5xLo",
        "outputId": "c7956d51-365f-4bb5-c0d2-4fcd0b359723"
      },
      "source": [
        "num_cols = dataframe.shape[1]\n",
        "print(num_cols)"
      ],
      "execution_count": 12,
      "outputs": [
        {
          "output_type": "stream",
          "text": [
            "7\n"
          ],
          "name": "stdout"
        }
      ]
    },
    {
      "cell_type": "markdown",
      "metadata": {
        "id": "IqXH8dWy5xLp"
      },
      "source": [
        "**Q: What are the column titles of the input variables?**"
      ]
    },
    {
      "cell_type": "code",
      "metadata": {
        "id": "xSWDiMGF5xLp"
      },
      "source": [
        "input_cols = [col for col in dataframe.columns]"
      ],
      "execution_count": 13,
      "outputs": []
    },
    {
      "cell_type": "markdown",
      "metadata": {
        "id": "87XEyI3x5xLp"
      },
      "source": [
        "**Q: Which of the input columns are non-numeric or categorial variables ?**\n",
        "\n",
        "Hint: `sex` is one of them. List the columns that are not numbers."
      ]
    },
    {
      "cell_type": "code",
      "metadata": {
        "id": "CMBOlDFi5xLq"
      },
      "source": [
        "categorical_cols = list(set(dataframe.columns)-set(dataframe._get_numeric_data().columns))"
      ],
      "execution_count": 14,
      "outputs": []
    },
    {
      "cell_type": "code",
      "metadata": {
        "colab": {
          "base_uri": "https://localhost:8080/"
        },
        "id": "5v9v30jF7j2Z",
        "outputId": "7b1b9b77-1154-43c2-806a-55bc70b59f96"
      },
      "source": [
        "print(categorical_cols)"
      ],
      "execution_count": 15,
      "outputs": [
        {
          "output_type": "stream",
          "text": [
            "['region', 'smoker', 'sex']\n"
          ],
          "name": "stdout"
        }
      ]
    },
    {
      "cell_type": "markdown",
      "metadata": {
        "id": "S37WiLN05xLq"
      },
      "source": [
        "**Q: What are the column titles of output/target variable(s)?**"
      ]
    },
    {
      "cell_type": "code",
      "metadata": {
        "id": "OSgxKPFd5xLq"
      },
      "source": [
        "output_cols = ['charges']"
      ],
      "execution_count": 16,
      "outputs": []
    },
    {
      "cell_type": "markdown",
      "metadata": {
        "id": "QX_tAQ7X5xLq"
      },
      "source": [
        "**Q: (Optional) What is the minimum, maximum and average value of the `charges` column? Can you show the distribution of values in a graph?**\n",
        "Use this data visualization cheatsheet for referece: https://jovian.ml/aakashns/dataviz-cheatsheet"
      ]
    },
    {
      "cell_type": "code",
      "metadata": {
        "colab": {
          "base_uri": "https://localhost:8080/"
        },
        "id": "oJLoMLE_5xLr",
        "outputId": "a3a90c8f-0f68-409c-e1ce-b99a8d573c8a"
      },
      "source": [
        "# Write your answer here\r\n",
        "dataframe.charges.describe()"
      ],
      "execution_count": 17,
      "outputs": [
        {
          "output_type": "execute_result",
          "data": {
            "text/plain": [
              "count     1271.000000\n",
              "mean     15379.439302\n",
              "std      14003.798360\n",
              "min       1290.154985\n",
              "25%       5488.733973\n",
              "50%      10864.337903\n",
              "75%      19304.311694\n",
              "max      73335.992212\n",
              "Name: charges, dtype: float64"
            ]
          },
          "metadata": {
            "tags": []
          },
          "execution_count": 17
        }
      ]
    },
    {
      "cell_type": "markdown",
      "metadata": {
        "id": "Il0W78vB5xLr"
      },
      "source": [
        "Remember to commit your notebook to Jovian after every step, so that you don't lose your work."
      ]
    },
    {
      "cell_type": "code",
      "metadata": {
        "id": "hS1l06kd5xLr"
      },
      "source": [
        "!pip install jovian --upgrade -q"
      ],
      "execution_count": 18,
      "outputs": []
    },
    {
      "cell_type": "code",
      "metadata": {
        "id": "8WwXYfuD5xLs"
      },
      "source": [
        "import jovian"
      ],
      "execution_count": 19,
      "outputs": []
    },
    {
      "cell_type": "code",
      "metadata": {
        "colab": {
          "base_uri": "https://localhost:8080/",
          "height": 137
        },
        "id": "ezUvdzZM5xLs",
        "outputId": "b58e2d87-1603-4d43-a2de-73282c2b92bc"
      },
      "source": [
        "jovian.commit(project = project_name)"
      ],
      "execution_count": 20,
      "outputs": [
        {
          "output_type": "stream",
          "text": [
            "[jovian] Detected Colab notebook...\u001b[0m\n",
            "[jovian] Please enter your API key ( from https://jovian.ai/ ):\u001b[0m\n",
            "API KEY: ··········\n",
            "[jovian] Uploading colab notebook to Jovian...\u001b[0m\n",
            "[jovian] Capturing environment..\u001b[0m\n",
            "[jovian] Committed successfully! https://jovian.ai/pushpendrasharma418/02-insurance-linear-regression\u001b[0m\n"
          ],
          "name": "stdout"
        },
        {
          "output_type": "execute_result",
          "data": {
            "application/vnd.google.colaboratory.intrinsic+json": {
              "type": "string"
            },
            "text/plain": [
              "'https://jovian.ai/pushpendrasharma418/02-insurance-linear-regression'"
            ]
          },
          "metadata": {
            "tags": []
          },
          "execution_count": 20
        }
      ]
    },
    {
      "cell_type": "code",
      "metadata": {
        "colab": {
          "base_uri": "https://localhost:8080/",
          "height": 419
        },
        "id": "wlnUswCy-pWt",
        "outputId": "549cf521-58d5-4daa-b7cc-afb9bd242921"
      },
      "source": [
        "dataframe"
      ],
      "execution_count": 21,
      "outputs": [
        {
          "output_type": "execute_result",
          "data": {
            "text/html": [
              "<div>\n",
              "<style scoped>\n",
              "    .dataframe tbody tr th:only-of-type {\n",
              "        vertical-align: middle;\n",
              "    }\n",
              "\n",
              "    .dataframe tbody tr th {\n",
              "        vertical-align: top;\n",
              "    }\n",
              "\n",
              "    .dataframe thead th {\n",
              "        text-align: right;\n",
              "    }\n",
              "</style>\n",
              "<table border=\"1\" class=\"dataframe\">\n",
              "  <thead>\n",
              "    <tr style=\"text-align: right;\">\n",
              "      <th></th>\n",
              "      <th>age</th>\n",
              "      <th>sex</th>\n",
              "      <th>bmi</th>\n",
              "      <th>children</th>\n",
              "      <th>smoker</th>\n",
              "      <th>region</th>\n",
              "      <th>charges</th>\n",
              "    </tr>\n",
              "  </thead>\n",
              "  <tbody>\n",
              "    <tr>\n",
              "      <th>240</th>\n",
              "      <td>23</td>\n",
              "      <td>female</td>\n",
              "      <td>42.90390</td>\n",
              "      <td>2</td>\n",
              "      <td>yes</td>\n",
              "      <td>northeast</td>\n",
              "      <td>44288.372545</td>\n",
              "    </tr>\n",
              "    <tr>\n",
              "      <th>651</th>\n",
              "      <td>53</td>\n",
              "      <td>female</td>\n",
              "      <td>46.33200</td>\n",
              "      <td>1</td>\n",
              "      <td>no</td>\n",
              "      <td>southeast</td>\n",
              "      <td>12166.667650</td>\n",
              "    </tr>\n",
              "    <tr>\n",
              "      <th>761</th>\n",
              "      <td>23</td>\n",
              "      <td>male</td>\n",
              "      <td>41.18400</td>\n",
              "      <td>1</td>\n",
              "      <td>no</td>\n",
              "      <td>southwest</td>\n",
              "      <td>2779.498250</td>\n",
              "    </tr>\n",
              "    <tr>\n",
              "      <th>836</th>\n",
              "      <td>36</td>\n",
              "      <td>male</td>\n",
              "      <td>36.85500</td>\n",
              "      <td>0</td>\n",
              "      <td>no</td>\n",
              "      <td>southwest</td>\n",
              "      <td>5062.567950</td>\n",
              "    </tr>\n",
              "    <tr>\n",
              "      <th>1147</th>\n",
              "      <td>20</td>\n",
              "      <td>female</td>\n",
              "      <td>37.34640</td>\n",
              "      <td>0</td>\n",
              "      <td>no</td>\n",
              "      <td>northwest</td>\n",
              "      <td>2600.804120</td>\n",
              "    </tr>\n",
              "    <tr>\n",
              "      <th>...</th>\n",
              "      <td>...</td>\n",
              "      <td>...</td>\n",
              "      <td>...</td>\n",
              "      <td>...</td>\n",
              "      <td>...</td>\n",
              "      <td>...</td>\n",
              "      <td>...</td>\n",
              "    </tr>\n",
              "    <tr>\n",
              "      <th>848</th>\n",
              "      <td>27</td>\n",
              "      <td>female</td>\n",
              "      <td>28.19700</td>\n",
              "      <td>0</td>\n",
              "      <td>no</td>\n",
              "      <td>southwest</td>\n",
              "      <td>3420.244900</td>\n",
              "    </tr>\n",
              "    <tr>\n",
              "      <th>902</th>\n",
              "      <td>26</td>\n",
              "      <td>male</td>\n",
              "      <td>31.90005</td>\n",
              "      <td>3</td>\n",
              "      <td>no</td>\n",
              "      <td>northeast</td>\n",
              "      <td>5360.479303</td>\n",
              "    </tr>\n",
              "    <tr>\n",
              "      <th>288</th>\n",
              "      <td>59</td>\n",
              "      <td>female</td>\n",
              "      <td>43.01505</td>\n",
              "      <td>1</td>\n",
              "      <td>yes</td>\n",
              "      <td>northeast</td>\n",
              "      <td>55081.310053</td>\n",
              "    </tr>\n",
              "    <tr>\n",
              "      <th>221</th>\n",
              "      <td>53</td>\n",
              "      <td>female</td>\n",
              "      <td>38.90250</td>\n",
              "      <td>0</td>\n",
              "      <td>no</td>\n",
              "      <td>northeast</td>\n",
              "      <td>12149.617175</td>\n",
              "    </tr>\n",
              "    <tr>\n",
              "      <th>1280</th>\n",
              "      <td>48</td>\n",
              "      <td>female</td>\n",
              "      <td>38.99610</td>\n",
              "      <td>0</td>\n",
              "      <td>no</td>\n",
              "      <td>southeast</td>\n",
              "      <td>9526.232805</td>\n",
              "    </tr>\n",
              "  </tbody>\n",
              "</table>\n",
              "<p>1271 rows × 7 columns</p>\n",
              "</div>"
            ],
            "text/plain": [
              "      age     sex       bmi  children smoker     region       charges\n",
              "240    23  female  42.90390         2    yes  northeast  44288.372545\n",
              "651    53  female  46.33200         1     no  southeast  12166.667650\n",
              "761    23    male  41.18400         1     no  southwest   2779.498250\n",
              "836    36    male  36.85500         0     no  southwest   5062.567950\n",
              "1147   20  female  37.34640         0     no  northwest   2600.804120\n",
              "...   ...     ...       ...       ...    ...        ...           ...\n",
              "848    27  female  28.19700         0     no  southwest   3420.244900\n",
              "902    26    male  31.90005         3     no  northeast   5360.479303\n",
              "288    59  female  43.01505         1    yes  northeast  55081.310053\n",
              "221    53  female  38.90250         0     no  northeast  12149.617175\n",
              "1280   48  female  38.99610         0     no  southeast   9526.232805\n",
              "\n",
              "[1271 rows x 7 columns]"
            ]
          },
          "metadata": {
            "tags": []
          },
          "execution_count": 21
        }
      ]
    },
    {
      "cell_type": "markdown",
      "metadata": {
        "id": "L31w7VFE5xLs"
      },
      "source": [
        "## Step 2: Prepare the dataset for training\n",
        "\n",
        "We need to convert the data from the Pandas dataframe into a PyTorch tensors for training. To do this, the first step is to convert it numpy arrays. If you've filled out `input_cols`, `categorial_cols` and `output_cols` correctly, this following function will perform the conversion to numpy arrays."
      ]
    },
    {
      "cell_type": "code",
      "metadata": {
        "id": "RZPjd-Ju5xLt"
      },
      "source": [
        "def dataframe_to_arrays(dataframe):\n",
        "    # Make a copy of the original dataframe\n",
        "    dataframe1 = dataframe.copy(deep=True)\n",
        "    # Convert non-numeric categorical columns to numbers\n",
        "    for col in categorical_cols:\n",
        "        dataframe1[col] = dataframe1[col].astype('category').cat.codes\n",
        "    # Extract input & outupts as numpy arrays\n",
        "    inputs_array = dataframe1[input_cols].to_numpy()\n",
        "    targets_array = dataframe1[output_cols].to_numpy()\n",
        "    return inputs_array, targets_array"
      ],
      "execution_count": 22,
      "outputs": []
    },
    {
      "cell_type": "markdown",
      "metadata": {
        "id": "QTVSsKQt5xLu"
      },
      "source": [
        "Read through the [Pandas documentation](https://pandas.pydata.org/pandas-docs/stable/user_guide/categorical.html) to understand how we're converting categorical variables into numbers."
      ]
    },
    {
      "cell_type": "code",
      "metadata": {
        "colab": {
          "base_uri": "https://localhost:8080/"
        },
        "id": "fuC8BTE_5xLu",
        "outputId": "4a82c2cf-e0e0-4dae-fd82-2bd24feff549"
      },
      "source": [
        "inputs_array, targets_array = dataframe_to_arrays(dataframe)\n",
        "inputs_array, targets_array"
      ],
      "execution_count": 23,
      "outputs": [
        {
          "output_type": "execute_result",
          "data": {
            "text/plain": [
              "(array([[2.30000000e+01, 0.00000000e+00, 4.29039000e+01, ...,\n",
              "         1.00000000e+00, 0.00000000e+00, 4.42883725e+04],\n",
              "        [5.30000000e+01, 0.00000000e+00, 4.63320000e+01, ...,\n",
              "         0.00000000e+00, 2.00000000e+00, 1.21666677e+04],\n",
              "        [2.30000000e+01, 1.00000000e+00, 4.11840000e+01, ...,\n",
              "         0.00000000e+00, 3.00000000e+00, 2.77949825e+03],\n",
              "        ...,\n",
              "        [5.90000000e+01, 0.00000000e+00, 4.30150500e+01, ...,\n",
              "         1.00000000e+00, 0.00000000e+00, 5.50813101e+04],\n",
              "        [5.30000000e+01, 0.00000000e+00, 3.89025000e+01, ...,\n",
              "         0.00000000e+00, 0.00000000e+00, 1.21496172e+04],\n",
              "        [4.80000000e+01, 0.00000000e+00, 3.89961000e+01, ...,\n",
              "         0.00000000e+00, 2.00000000e+00, 9.52623281e+03]]),\n",
              " array([[44288.372545 ],\n",
              "        [12166.66765  ],\n",
              "        [ 2779.49825  ],\n",
              "        ...,\n",
              "        [55081.3100525],\n",
              "        [12149.617175 ],\n",
              "        [ 9526.232805 ]]))"
            ]
          },
          "metadata": {
            "tags": []
          },
          "execution_count": 23
        }
      ]
    },
    {
      "cell_type": "markdown",
      "metadata": {
        "id": "haiDlVGu5xLv"
      },
      "source": [
        "**Q: Convert the numpy arrays `inputs_array` and `targets_array` into PyTorch tensors. Make sure that the data type is `torch.float32`.**"
      ]
    },
    {
      "cell_type": "code",
      "metadata": {
        "id": "GmbAn9fx5xLv"
      },
      "source": [
        "inputs = torch.from_numpy(inputs_array.astype('float32'))\n",
        "targets = torch.from_numpy(targets_array.astype('float32'))"
      ],
      "execution_count": 24,
      "outputs": []
    },
    {
      "cell_type": "code",
      "metadata": {
        "colab": {
          "base_uri": "https://localhost:8080/"
        },
        "id": "clPEC2O75xLv",
        "outputId": "27ffece6-fae3-43f7-a019-503fb7f18a37"
      },
      "source": [
        "inputs.dtype, targets.dtype"
      ],
      "execution_count": 25,
      "outputs": [
        {
          "output_type": "execute_result",
          "data": {
            "text/plain": [
              "(torch.float32, torch.float32)"
            ]
          },
          "metadata": {
            "tags": []
          },
          "execution_count": 25
        }
      ]
    },
    {
      "cell_type": "markdown",
      "metadata": {
        "id": "NZYbVhoz5xLv"
      },
      "source": [
        "Next, we need to create PyTorch datasets & data loaders for training & validation. We'll start by creating a `TensorDataset`."
      ]
    },
    {
      "cell_type": "code",
      "metadata": {
        "id": "4fbp4y8G5xLw"
      },
      "source": [
        "dataset = TensorDataset(inputs, targets)"
      ],
      "execution_count": 26,
      "outputs": []
    },
    {
      "cell_type": "markdown",
      "metadata": {
        "id": "36a-QqE25xLw"
      },
      "source": [
        "**Q: Pick a number between `0.1` and `0.2` to determine the fraction of data that will be used for creating the validation set. Then use `random_split` to create training & validation datasets.**"
      ]
    },
    {
      "cell_type": "code",
      "metadata": {
        "id": "3frBV3lF5xLw"
      },
      "source": [
        "val_percent = .2 # between 0.1 and 0.2\n",
        "val_size = int(num_rows * val_percent)\n",
        "train_size = num_rows - val_size\n",
        "\n",
        "\n",
        "train_ds, val_ds = random_split(dataset, \n",
        "                                [train_size, val_size]) # Use the random_split function to split dataset into 2 parts of the desired length"
      ],
      "execution_count": 27,
      "outputs": []
    },
    {
      "cell_type": "markdown",
      "metadata": {
        "id": "yns_VVi25xLx"
      },
      "source": [
        "Finally, we can create data loaders for training & validation.\n",
        "\n",
        "**Q: Pick a batch size for the data loader.**"
      ]
    },
    {
      "cell_type": "code",
      "metadata": {
        "id": "75KjoLHE5xLx"
      },
      "source": [
        "batch_size = 128"
      ],
      "execution_count": 28,
      "outputs": []
    },
    {
      "cell_type": "code",
      "metadata": {
        "id": "U_WIoF7l5xLy"
      },
      "source": [
        "train_loader = DataLoader(train_ds, batch_size, shuffle=True)\n",
        "val_loader = DataLoader(val_ds, batch_size)"
      ],
      "execution_count": 29,
      "outputs": []
    },
    {
      "cell_type": "markdown",
      "metadata": {
        "id": "EJRgZHH15xLz"
      },
      "source": [
        "Let's look at a batch of data to verify everything is working fine so far."
      ]
    },
    {
      "cell_type": "code",
      "metadata": {
        "id": "A3hsftqe5xLz",
        "colab": {
          "base_uri": "https://localhost:8080/"
        },
        "outputId": "ffb293f8-94dc-4260-c3b0-ed8e0902dd41"
      },
      "source": [
        "for xb, yb in train_loader:\n",
        "    print(\"inputs:\", xb)\n",
        "    print(\"targets:\", yb)\n",
        "    break"
      ],
      "execution_count": 31,
      "outputs": [
        {
          "output_type": "stream",
          "text": [
            "inputs: tensor([[3.8000e+01, 1.0000e+00, 4.3348e+01, 1.0000e+00, 0.0000e+00, 0.0000e+00,\n",
            "         6.9916e+03],\n",
            "        [2.4000e+01, 1.0000e+00, 3.3345e+01, 0.0000e+00, 1.0000e+00, 0.0000e+00,\n",
            "         4.0420e+04],\n",
            "        [4.3000e+01, 1.0000e+00, 2.3552e+01, 2.0000e+00, 1.0000e+00, 2.0000e+00,\n",
            "         2.1583e+04],\n",
            "        [1.9000e+01, 1.0000e+00, 3.3228e+01, 1.0000e+00, 0.0000e+00, 3.0000e+00,\n",
            "         2.1189e+03],\n",
            "        [3.3000e+01, 0.0000e+00, 2.2341e+01, 2.0000e+00, 1.0000e+00, 0.0000e+00,\n",
            "         1.9293e+04],\n",
            "        [4.3000e+01, 1.0000e+00, 3.2526e+01, 0.0000e+00, 1.0000e+00, 3.0000e+00,\n",
            "         4.3504e+04],\n",
            "        [1.9000e+01, 0.0000e+00, 3.4866e+01, 0.0000e+00, 0.0000e+00, 3.0000e+00,\n",
            "         2.0061e+03],\n",
            "        [5.0000e+01, 0.0000e+00, 3.0677e+01, 2.0000e+00, 0.0000e+00, 1.0000e+00,\n",
            "         1.2068e+04],\n",
            "        [5.4000e+01, 1.0000e+00, 3.4164e+01, 1.0000e+00, 0.0000e+00, 3.0000e+00,\n",
            "         1.2002e+04],\n",
            "        [2.5000e+01, 0.0000e+00, 4.0347e+01, 0.0000e+00, 0.0000e+00, 1.0000e+00,\n",
            "         3.4751e+03],\n",
            "        [5.1000e+01, 0.0000e+00, 4.0903e+01, 2.0000e+00, 1.0000e+00, 0.0000e+00,\n",
            "         5.1337e+04],\n",
            "        [4.5000e+01, 0.0000e+00, 3.6153e+01, 2.0000e+00, 0.0000e+00, 3.0000e+00,\n",
            "         9.7980e+03],\n",
            "        [2.1000e+01, 1.0000e+00, 2.7156e+01, 0.0000e+00, 0.0000e+00, 2.0000e+00,\n",
            "         1.7426e+03],\n",
            "        [4.9000e+01, 1.0000e+00, 3.5451e+01, 0.0000e+00, 0.0000e+00, 3.0000e+00,\n",
            "         9.3342e+03],\n",
            "        [3.8000e+01, 0.0000e+00, 3.2292e+01, 0.0000e+00, 0.0000e+00, 3.0000e+00,\n",
            "         6.1911e+03],\n",
            "        [4.2000e+01, 1.0000e+00, 4.3501e+01, 2.0000e+00, 0.0000e+00, 2.0000e+00,\n",
            "         8.2363e+03],\n",
            "        [2.4000e+01, 0.0000e+00, 2.6442e+01, 0.0000e+00, 0.0000e+00, 3.0000e+00,\n",
            "         2.8261e+03],\n",
            "        [3.0000e+01, 0.0000e+00, 3.2678e+01, 0.0000e+00, 0.0000e+00, 0.0000e+00,\n",
            "         4.7582e+03],\n",
            "        [3.3000e+01, 1.0000e+00, 4.1237e+01, 0.0000e+00, 0.0000e+00, 0.0000e+00,\n",
            "         1.4266e+04],\n",
            "        [6.0000e+01, 1.0000e+00, 3.0116e+01, 0.0000e+00, 0.0000e+00, 2.0000e+00,\n",
            "         1.3964e+04],\n",
            "        [3.5000e+01, 1.0000e+00, 3.1707e+01, 1.0000e+00, 0.0000e+00, 3.0000e+00,\n",
            "         5.4583e+03],\n",
            "        [2.0000e+01, 0.0000e+00, 3.8961e+01, 0.0000e+00, 0.0000e+00, 3.0000e+00,\n",
            "         2.1626e+03],\n",
            "        [2.1000e+01, 0.0000e+00, 4.6203e+01, 0.0000e+00, 0.0000e+00, 2.0000e+00,\n",
            "         2.3310e+03],\n",
            "        [5.5000e+01, 1.0000e+00, 3.2345e+01, 0.0000e+00, 0.0000e+00, 1.0000e+00,\n",
            "         1.2184e+04],\n",
            "        [5.6000e+01, 1.0000e+00, 3.0344e+01, 0.0000e+00, 0.0000e+00, 0.0000e+00,\n",
            "         1.2840e+04],\n",
            "        [3.7000e+01, 0.0000e+00, 3.4515e+01, 2.0000e+00, 0.0000e+00, 3.0000e+00,\n",
            "         7.2587e+03],\n",
            "        [3.7000e+01, 0.0000e+00, 4.4916e+01, 0.0000e+00, 1.0000e+00, 2.0000e+00,\n",
            "         4.6482e+04],\n",
            "        [3.5000e+01, 0.0000e+00, 4.1904e+01, 1.0000e+00, 0.0000e+00, 1.0000e+00,\n",
            "         6.4750e+03],\n",
            "        [2.7000e+01, 0.0000e+00, 2.9455e+01, 0.0000e+00, 0.0000e+00, 0.0000e+00,\n",
            "         4.0924e+03],\n",
            "        [6.1000e+01, 1.0000e+00, 3.3123e+01, 1.0000e+00, 1.0000e+00, 1.0000e+00,\n",
            "         3.3199e+04],\n",
            "        [1.9000e+01, 1.0000e+00, 3.5790e+01, 0.0000e+00, 0.0000e+00, 1.0000e+00,\n",
            "         1.8855e+03],\n",
            "        [6.0000e+01, 0.0000e+00, 3.3579e+01, 1.0000e+00, 0.0000e+00, 3.0000e+00,\n",
            "         1.5208e+04],\n",
            "        [5.1000e+01, 1.0000e+00, 3.7791e+01, 1.0000e+00, 0.0000e+00, 0.0000e+00,\n",
            "         1.1459e+04],\n",
            "        [4.8000e+01, 1.0000e+00, 3.5334e+01, 2.0000e+00, 0.0000e+00, 3.0000e+00,\n",
            "         1.0314e+04],\n",
            "        [6.1000e+01, 0.0000e+00, 3.8996e+01, 4.0000e+00, 0.0000e+00, 2.0000e+00,\n",
            "         4.2067e+04],\n",
            "        [4.5000e+01, 1.0000e+00, 2.8121e+01, 2.0000e+00, 0.0000e+00, 0.0000e+00,\n",
            "         9.8952e+03],\n",
            "        [5.4000e+01, 1.0000e+00, 3.8347e+01, 0.0000e+00, 0.0000e+00, 0.0000e+00,\n",
            "         1.2000e+04],\n",
            "        [2.8000e+01, 0.0000e+00, 2.0229e+01, 0.0000e+00, 0.0000e+00, 0.0000e+00,\n",
            "         4.2925e+03],\n",
            "        [4.8000e+01, 0.0000e+00, 3.7791e+01, 2.0000e+00, 0.0000e+00, 0.0000e+00,\n",
            "         1.1550e+04],\n",
            "        [4.3000e+01, 0.0000e+00, 3.5901e+01, 2.0000e+00, 0.0000e+00, 1.0000e+00,\n",
            "         9.5575e+03],\n",
            "        [4.4000e+01, 0.0000e+00, 2.3675e+01, 1.0000e+00, 1.0000e+00, 0.0000e+00,\n",
            "         2.2534e+04],\n",
            "        [4.2000e+01, 1.0000e+00, 3.0566e+01, 2.0000e+00, 0.0000e+00, 0.0000e+00,\n",
            "         8.8891e+03],\n",
            "        [5.5000e+01, 1.0000e+00, 3.9640e+01, 3.0000e+00, 0.0000e+00, 2.0000e+00,\n",
            "         1.3785e+04],\n",
            "        [4.2000e+01, 1.0000e+00, 4.1886e+01, 2.0000e+00, 0.0000e+00, 3.0000e+00,\n",
            "         8.2341e+03],\n",
            "        [5.1000e+01, 0.0000e+00, 4.4144e+01, 1.0000e+00, 0.0000e+00, 2.0000e+00,\n",
            "         1.1359e+04],\n",
            "        [2.3000e+01, 1.0000e+00, 3.2011e+01, 1.0000e+00, 0.0000e+00, 1.0000e+00,\n",
            "         3.2074e+03],\n",
            "        [2.6000e+01, 1.0000e+00, 2.7729e+01, 2.0000e+00, 0.0000e+00, 3.0000e+00,\n",
            "         4.0070e+03],\n",
            "        [3.7000e+01, 0.0000e+00, 4.0716e+01, 2.0000e+00, 1.0000e+00, 3.0000e+00,\n",
            "         4.5812e+04],\n",
            "        [4.9000e+01, 0.0000e+00, 2.4921e+01, 1.0000e+00, 0.0000e+00, 3.0000e+00,\n",
            "         1.0559e+04],\n",
            "        [2.4000e+01, 1.0000e+00, 3.9347e+01, 4.0000e+00, 0.0000e+00, 0.0000e+00,\n",
            "         1.9698e+04],\n",
            "        [4.6000e+01, 0.0000e+00, 3.5334e+01, 2.0000e+00, 0.0000e+00, 3.0000e+00,\n",
            "         1.0149e+04],\n",
            "        [4.6000e+01, 1.0000e+00, 3.5679e+01, 3.0000e+00, 1.0000e+00, 1.0000e+00,\n",
            "         4.6829e+04],\n",
            "        [4.3000e+01, 0.0000e+00, 3.1455e+01, 0.0000e+00, 1.0000e+00, 1.0000e+00,\n",
            "         2.5040e+04],\n",
            "        [2.6000e+01, 1.0000e+00, 3.4457e+01, 0.0000e+00, 0.0000e+00, 0.0000e+00,\n",
            "         3.3319e+03],\n",
            "        [2.9000e+01, 0.0000e+00, 3.7569e+01, 2.0000e+00, 0.0000e+00, 1.0000e+00,\n",
            "         5.6614e+03],\n",
            "        [2.0000e+01, 0.0000e+00, 3.7346e+01, 0.0000e+00, 0.0000e+00, 1.0000e+00,\n",
            "         2.6008e+03],\n",
            "        [2.5000e+01, 1.0000e+00, 2.9232e+01, 2.0000e+00, 0.0000e+00, 0.0000e+00,\n",
            "         2.6728e+04],\n",
            "        [3.2000e+01, 1.0000e+00, 3.5135e+01, 1.0000e+00, 0.0000e+00, 2.0000e+00,\n",
            "         4.6856e+03],\n",
            "        [5.4000e+01, 0.0000e+00, 3.2345e+01, 1.0000e+00, 0.0000e+00, 1.0000e+00,\n",
            "         1.3002e+04],\n",
            "        [4.0000e+01, 0.0000e+00, 3.8610e+01, 3.0000e+00, 0.0000e+00, 2.0000e+00,\n",
            "         8.8351e+03],\n",
            "        [5.8000e+01, 1.0000e+00, 2.7261e+01, 0.0000e+00, 0.0000e+00, 3.0000e+00,\n",
            "         1.3047e+04],\n",
            "        [5.0000e+01, 0.0000e+00, 2.9952e+01, 0.0000e+00, 0.0000e+00, 3.0000e+00,\n",
            "         1.0272e+04],\n",
            "        [4.7000e+01, 1.0000e+00, 5.5598e+01, 1.0000e+00, 0.0000e+00, 2.0000e+00,\n",
            "         9.2965e+03],\n",
            "        [4.6000e+01, 1.0000e+00, 4.9549e+01, 3.0000e+00, 1.0000e+00, 2.0000e+00,\n",
            "         5.3074e+04],\n",
            "        [5.7000e+01, 1.0000e+00, 2.7729e+01, 0.0000e+00, 0.0000e+00, 3.0000e+00,\n",
            "         1.2603e+04],\n",
            "        [3.6000e+01, 1.0000e+00, 4.0283e+01, 0.0000e+00, 1.0000e+00, 2.0000e+00,\n",
            "         4.3404e+04],\n",
            "        [1.9000e+01, 1.0000e+00, 4.1418e+01, 0.0000e+00, 0.0000e+00, 3.0000e+00,\n",
            "         1.4527e+03],\n",
            "        [3.1000e+01, 0.0000e+00, 2.7612e+01, 2.0000e+00, 0.0000e+00, 3.0000e+00,\n",
            "         5.6714e+03],\n",
            "        [5.8000e+01, 0.0000e+00, 3.3930e+01, 0.0000e+00, 0.0000e+00, 3.0000e+00,\n",
            "         1.3619e+04],\n",
            "        [4.6000e+01, 0.0000e+00, 4.0482e+01, 1.0000e+00, 1.0000e+00, 3.0000e+00,\n",
            "         4.7911e+04],\n",
            "        [6.4000e+01, 0.0000e+00, 3.5235e+01, 3.0000e+00, 0.0000e+00, 1.0000e+00,\n",
            "         1.8924e+04],\n",
            "        [6.2000e+01, 0.0000e+00, 3.0759e+01, 0.0000e+00, 1.0000e+00, 2.0000e+00,\n",
            "         3.1980e+04],\n",
            "        [3.9000e+01, 0.0000e+00, 2.7928e+01, 5.0000e+00, 0.0000e+00, 2.0000e+00,\n",
            "         9.8696e+03],\n",
            "        [3.7000e+01, 0.0000e+00, 3.9903e+01, 1.0000e+00, 0.0000e+00, 1.0000e+00,\n",
            "         7.0292e+03],\n",
            "        [2.5000e+01, 0.0000e+00, 2.7454e+01, 0.0000e+00, 0.0000e+00, 0.0000e+00,\n",
            "         3.6875e+03],\n",
            "        [1.9000e+01, 0.0000e+00, 2.0826e+01, 0.0000e+00, 0.0000e+00, 3.0000e+00,\n",
            "         1.9870e+03],\n",
            "        [3.1000e+01, 0.0000e+00, 3.8347e+01, 2.0000e+00, 0.0000e+00, 1.0000e+00,\n",
            "         6.1265e+03],\n",
            "        [2.5000e+01, 1.0000e+00, 3.1356e+01, 3.0000e+00, 0.0000e+00, 3.0000e+00,\n",
            "         4.4920e+03],\n",
            "        [3.5000e+01, 0.0000e+00, 3.2789e+01, 0.0000e+00, 1.0000e+00, 1.0000e+00,\n",
            "         2.3270e+04],\n",
            "        [5.7000e+01, 0.0000e+00, 2.3517e+01, 1.0000e+00, 0.0000e+00, 3.0000e+00,\n",
            "         1.3837e+04],\n",
            "        [3.2000e+01, 1.0000e+00, 4.3682e+01, 1.0000e+00, 0.0000e+00, 0.0000e+00,\n",
            "         5.3677e+03],\n",
            "        [3.9000e+01, 1.0000e+00, 5.3153e+01, 2.0000e+00, 0.0000e+00, 2.0000e+00,\n",
            "         7.3097e+03],\n",
            "        [5.2000e+01, 1.0000e+00, 3.2011e+01, 0.0000e+00, 1.0000e+00, 1.0000e+00,\n",
            "         2.8053e+04],\n",
            "        [4.3000e+01, 1.0000e+00, 4.4530e+01, 2.0000e+00, 1.0000e+00, 2.0000e+00,\n",
            "         4.8944e+04],\n",
            "        [2.5000e+01, 0.0000e+00, 2.4336e+01, 1.0000e+00, 0.0000e+00, 3.0000e+00,\n",
            "         3.6901e+03],\n",
            "        [1.8000e+01, 0.0000e+00, 3.5235e+01, 0.0000e+00, 0.0000e+00, 0.0000e+00,\n",
            "         2.5340e+03],\n",
            "        [3.3000e+01, 1.0000e+00, 3.4398e+01, 4.0000e+00, 0.0000e+00, 3.0000e+00,\n",
            "         6.9680e+03],\n",
            "        [2.3000e+01, 1.0000e+00, 2.7899e+01, 0.0000e+00, 0.0000e+00, 0.0000e+00,\n",
            "         2.7544e+03],\n",
            "        [2.1000e+01, 0.0000e+00, 4.1792e+01, 0.0000e+00, 0.0000e+00, 1.0000e+00,\n",
            "         2.7654e+03],\n",
            "        [4.1000e+01, 0.0000e+00, 4.2214e+01, 1.0000e+00, 0.0000e+00, 2.0000e+00,\n",
            "         7.7986e+03],\n",
            "        [5.0000e+01, 0.0000e+00, 3.2900e+01, 3.0000e+00, 0.0000e+00, 1.0000e+00,\n",
            "         1.2748e+04],\n",
            "        [2.6000e+01, 1.0000e+00, 2.4336e+01, 0.0000e+00, 0.0000e+00, 3.0000e+00,\n",
            "         2.6476e+03],\n",
            "        [6.3000e+01, 1.0000e+00, 3.6791e+01, 0.0000e+00, 0.0000e+00, 0.0000e+00,\n",
            "         1.6071e+04],\n",
            "        [3.2000e+01, 0.0000e+00, 2.0785e+01, 2.0000e+00, 1.0000e+00, 1.0000e+00,\n",
            "         3.7644e+04],\n",
            "        [1.9000e+01, 1.0000e+00, 3.8727e+01, 0.0000e+00, 0.0000e+00, 3.0000e+00,\n",
            "         2.6545e+04],\n",
            "        [4.2000e+01, 0.0000e+00, 2.7343e+01, 0.0000e+00, 1.0000e+00, 0.0000e+00,\n",
            "         2.2959e+04],\n",
            "        [3.5000e+01, 1.0000e+00, 2.0896e+01, 1.0000e+00, 0.0000e+00, 1.0000e+00,\n",
            "         5.8840e+03],\n",
            "        [2.9000e+01, 1.0000e+00, 4.3629e+01, 2.0000e+00, 0.0000e+00, 2.0000e+00,\n",
            "         4.6668e+03],\n",
            "        [3.0000e+01, 1.0000e+00, 3.3567e+01, 3.0000e+00, 1.0000e+00, 1.0000e+00,\n",
            "         2.3858e+04],\n",
            "        [2.4000e+01, 0.0000e+00, 3.1122e+01, 0.0000e+00, 0.0000e+00, 0.0000e+00,\n",
            "         3.5030e+03],\n",
            "        [2.3000e+01, 0.0000e+00, 2.7121e+01, 2.0000e+00, 0.0000e+00, 1.0000e+00,\n",
            "         1.6590e+04],\n",
            "        [1.8000e+01, 1.0000e+00, 3.7124e+01, 0.0000e+00, 1.0000e+00, 0.0000e+00,\n",
            "         3.8793e+04],\n",
            "        [4.8000e+01, 0.0000e+00, 3.2678e+01, 4.0000e+00, 0.0000e+00, 1.0000e+00,\n",
            "         1.2667e+04],\n",
            "        [3.4000e+01, 0.0000e+00, 3.4234e+01, 3.0000e+00, 0.0000e+00, 2.0000e+00,\n",
            "         7.1119e+03],\n",
            "        [4.0000e+01, 0.0000e+00, 3.3567e+01, 3.0000e+00, 0.0000e+00, 1.0000e+00,\n",
            "         9.2686e+03],\n",
            "        [5.3000e+01, 1.0000e+00, 3.6457e+01, 1.0000e+00, 0.0000e+00, 1.0000e+00,\n",
            "         1.2031e+04],\n",
            "        [2.9000e+01, 1.0000e+00, 3.7569e+01, 2.0000e+00, 0.0000e+00, 1.0000e+00,\n",
            "         5.0990e+03],\n",
            "        [4.8000e+01, 0.0000e+00, 4.2015e+01, 1.0000e+00, 0.0000e+00, 0.0000e+00,\n",
            "         3.0351e+04],\n",
            "        [5.1000e+01, 1.0000e+00, 2.9010e+01, 2.0000e+00, 1.0000e+00, 1.0000e+00,\n",
            "         2.7562e+04],\n",
            "        [6.4000e+01, 0.0000e+00, 4.6449e+01, 0.0000e+00, 0.0000e+00, 3.0000e+00,\n",
            "         1.6467e+04],\n",
            "        [5.4000e+01, 1.0000e+00, 3.5123e+01, 0.0000e+00, 0.0000e+00, 1.0000e+00,\n",
            "         2.8148e+04],\n",
            "        [3.7000e+01, 1.0000e+00, 5.4440e+01, 3.0000e+00, 0.0000e+00, 2.0000e+00,\n",
            "         7.4010e+03],\n",
            "        [3.8000e+01, 0.0000e+00, 4.6975e+01, 0.0000e+00, 0.0000e+00, 2.0000e+00,\n",
            "         6.2111e+03],\n",
            "        [6.3000e+01, 0.0000e+00, 4.3114e+01, 0.0000e+00, 0.0000e+00, 2.0000e+00,\n",
            "         1.5971e+04],\n",
            "        [3.8000e+01, 0.0000e+00, 2.2786e+01, 2.0000e+00, 0.0000e+00, 1.0000e+00,\n",
            "         7.9732e+03],\n",
            "        [2.3000e+01, 0.0000e+00, 4.0792e+01, 0.0000e+00, 0.0000e+00, 0.0000e+00,\n",
            "         3.3344e+03],\n",
            "        [5.9000e+01, 0.0000e+00, 3.2432e+01, 3.0000e+00, 0.0000e+00, 2.0000e+00,\n",
            "         1.6101e+04],\n",
            "        [4.0000e+01, 0.0000e+00, 3.2058e+01, 1.0000e+00, 0.0000e+00, 3.0000e+00,\n",
            "         7.4714e+03],\n",
            "        [6.1000e+01, 0.0000e+00, 3.6457e+01, 0.0000e+00, 0.0000e+00, 1.0000e+00,\n",
            "         1.5443e+04],\n",
            "        [3.8000e+01, 1.0000e+00, 2.4710e+01, 3.0000e+00, 0.0000e+00, 2.0000e+00,\n",
            "         7.6504e+03],\n",
            "        [3.8000e+01, 0.0000e+00, 3.1900e+01, 1.0000e+00, 0.0000e+00, 0.0000e+00,\n",
            "         7.5383e+03],\n",
            "        [3.1000e+01, 1.0000e+00, 3.6124e+01, 0.0000e+00, 0.0000e+00, 0.0000e+00,\n",
            "         4.4364e+03],\n",
            "        [5.7000e+01, 1.0000e+00, 3.2877e+01, 0.0000e+00, 0.0000e+00, 3.0000e+00,\n",
            "         1.2610e+04],\n",
            "        [4.1000e+01, 0.0000e+00, 4.3407e+01, 2.0000e+00, 0.0000e+00, 3.0000e+00,\n",
            "         8.4775e+03],\n",
            "        [4.4000e+01, 1.0000e+00, 2.9677e+01, 1.0000e+00, 0.0000e+00, 1.0000e+00,\n",
            "         8.6457e+03],\n",
            "        [5.4000e+01, 0.0000e+00, 3.7323e+01, 3.0000e+00, 0.0000e+00, 2.0000e+00,\n",
            "         3.1421e+04],\n",
            "        [3.4000e+01, 0.0000e+00, 3.2432e+01, 0.0000e+00, 0.0000e+00, 2.0000e+00,\n",
            "         5.0774e+03],\n",
            "        [2.2000e+01, 0.0000e+00, 3.1707e+01, 0.0000e+00, 0.0000e+00, 3.0000e+00,\n",
            "         2.4775e+03]])\n",
            "targets: tensor([[ 6991.6221],\n",
            "        [40419.6562],\n",
            "        [21582.8984],\n",
            "        [ 2118.8967],\n",
            "        [19292.7500],\n",
            "        [43504.1836],\n",
            "        [ 2006.1348],\n",
            "        [12068.0381],\n",
            "        [12001.5107],\n",
            "        [ 3475.0806],\n",
            "        [51337.3789],\n",
            "        [ 9798.0303],\n",
            "        [ 1742.6466],\n",
            "        [ 9334.1816],\n",
            "        [ 6191.0664],\n",
            "        [ 8236.3145],\n",
            "        [ 2826.1272],\n",
            "        [ 4758.1509],\n",
            "        [14265.6113],\n",
            "        [13963.9658],\n",
            "        [ 5458.2954],\n",
            "        [ 2162.5601],\n",
            "        [ 2331.0203],\n",
            "        [12183.6768],\n",
            "        [12840.2305],\n",
            "        [ 7258.7446],\n",
            "        [46481.8711],\n",
            "        [ 6475.0264],\n",
            "        [ 4092.4133],\n",
            "        [33198.9648],\n",
            "        [ 1885.4976],\n",
            "        [15208.3965],\n",
            "        [11458.6689],\n",
            "        [10313.5791],\n",
            "        [42067.3242],\n",
            "        [ 9895.1562],\n",
            "        [12000.3252],\n",
            "        [ 4292.5190],\n",
            "        [11549.7363],\n",
            "        [ 9557.4648],\n",
            "        [22534.0312],\n",
            "        [ 8889.0928],\n",
            "        [13785.2432],\n",
            "        [ 8234.1084],\n",
            "        [11359.2490],\n",
            "        [ 3207.4160],\n",
            "        [ 4006.9807],\n",
            "        [45811.9961],\n",
            "        [10559.4951],\n",
            "        [19697.6895],\n",
            "        [10148.8486],\n",
            "        [46828.6328],\n",
            "        [25040.4707],\n",
            "        [ 3331.9221],\n",
            "        [ 5661.3535],\n",
            "        [ 2600.8042],\n",
            "        [26727.6953],\n",
            "        [ 4685.6216],\n",
            "        [13001.8252],\n",
            "        [ 8835.0703],\n",
            "        [13047.3467],\n",
            "        [10271.8965],\n",
            "        [ 9296.5078],\n",
            "        [53073.7930],\n",
            "        [12603.2295],\n",
            "        [43403.9609],\n",
            "        [ 1452.7363],\n",
            "        [ 5671.3940],\n",
            "        [13618.8086],\n",
            "        [47910.8438],\n",
            "        [18924.0645],\n",
            "        [31980.0332],\n",
            "        [ 9869.6475],\n",
            "        [ 7029.2061],\n",
            "        [ 3687.4651],\n",
            "        [ 1986.9528],\n",
            "        [ 6126.5103],\n",
            "        [ 4492.0459],\n",
            "        [23270.0820],\n",
            "        [13837.1748],\n",
            "        [ 5367.7490],\n",
            "        [ 7309.7114],\n",
            "        [28052.6660],\n",
            "        [48944.4961],\n",
            "        [ 3690.1050],\n",
            "        [ 2533.9927],\n",
            "        [ 6968.0488],\n",
            "        [ 2754.4473],\n",
            "        [ 2765.4438],\n",
            "        [ 7798.5571],\n",
            "        [12748.4248],\n",
            "        [ 2647.6450],\n",
            "        [16070.6240],\n",
            "        [37644.3125],\n",
            "        [26545.3984],\n",
            "        [22959.4590],\n",
            "        [ 5883.9756],\n",
            "        [ 4666.8335],\n",
            "        [23857.8867],\n",
            "        [ 3502.9712],\n",
            "        [16589.9844],\n",
            "        [38792.5898],\n",
            "        [12667.4512],\n",
            "        [ 7111.9443],\n",
            "        [ 9268.6309],\n",
            "        [12031.2764],\n",
            "        [ 5099.0034],\n",
            "        [30351.0996],\n",
            "        [27562.4902],\n",
            "        [16466.8848],\n",
            "        [28147.9512],\n",
            "        [ 7400.9673],\n",
            "        [ 6211.1274],\n",
            "        [15971.1641],\n",
            "        [ 7973.2285],\n",
            "        [ 3334.4128],\n",
            "        [16101.3037],\n",
            "        [ 7471.4189],\n",
            "        [15443.3906],\n",
            "        [ 7650.4082],\n",
            "        [ 7538.3311],\n",
            "        [ 4436.4233],\n",
            "        [12610.2627],\n",
            "        [ 8477.5381],\n",
            "        [ 8645.7295],\n",
            "        [31421.1445],\n",
            "        [ 5077.4326],\n",
            "        [ 2477.5151]])\n"
          ],
          "name": "stdout"
        }
      ]
    },
    {
      "cell_type": "markdown",
      "metadata": {
        "id": "KNY0GNvc5xL0"
      },
      "source": [
        "Let's save our work by committing to Jovian."
      ]
    },
    {
      "cell_type": "code",
      "metadata": {
        "colab": {
          "base_uri": "https://localhost:8080/",
          "height": 86
        },
        "id": "gcJfjDJf5xL0",
        "outputId": "5b589c8e-b596-4587-b747-cbbb62439c1a"
      },
      "source": [
        "jovian.commit(project=project_name, environment=None)"
      ],
      "execution_count": 32,
      "outputs": [
        {
          "output_type": "stream",
          "text": [
            "[jovian] Detected Colab notebook...\u001b[0m\n",
            "[jovian] Uploading colab notebook to Jovian...\u001b[0m\n",
            "[jovian] Committed successfully! https://jovian.ai/pushpendrasharma418/02-insurance-linear-regression\u001b[0m\n"
          ],
          "name": "stdout"
        },
        {
          "output_type": "execute_result",
          "data": {
            "application/vnd.google.colaboratory.intrinsic+json": {
              "type": "string"
            },
            "text/plain": [
              "'https://jovian.ai/pushpendrasharma418/02-insurance-linear-regression'"
            ]
          },
          "metadata": {
            "tags": []
          },
          "execution_count": 32
        }
      ]
    },
    {
      "cell_type": "markdown",
      "metadata": {
        "id": "VINZnDJb5xL1"
      },
      "source": [
        "## Step 3: Create a Linear Regression Model\n",
        "\n",
        "Our model itself is a fairly straightforward linear regression (we'll build more complex models in the next assignment). \n"
      ]
    },
    {
      "cell_type": "code",
      "metadata": {
        "id": "mOIFzZH55xL1"
      },
      "source": [
        "input_size = len(input_cols)\n",
        "output_size = len(output_cols)"
      ],
      "execution_count": 33,
      "outputs": []
    },
    {
      "cell_type": "markdown",
      "metadata": {
        "id": "7IGgC2VO5xL2"
      },
      "source": [
        "**Q: Complete the class definition below by filling out the constructor (`__init__`), `forward`, `training_step` and `validation_step` methods.**\n",
        "\n",
        "Hint: Think carefully about picking a good loss fuction (it's not cross entropy). Maybe try 2-3 of them and see which one works best. See https://pytorch.org/docs/stable/nn.functional.html#loss-functions"
      ]
    },
    {
      "cell_type": "code",
      "metadata": {
        "id": "IfQ3hZ5q5xL2"
      },
      "source": [
        "class InsuranceModel(nn.Module):\n",
        "    def __init__(self):\n",
        "        super().__init__()\n",
        "        self.linear =    nn.Linear(input_size,output_size)             # fill this (hint: use input_size & output_size defined above)\n",
        "        \n",
        "    def forward(self, xb):\n",
        "        out = self.linear(xb)                        # fill this\n",
        "        return out\n",
        "    \n",
        "    def training_step(self, batch):\n",
        "        inputs, targets = batch \n",
        "        # Generate predictions\n",
        "        out = self(inputs)          \n",
        "        # Calcuate loss\n",
        "        loss =   F.l1_loss(out, targets)                    # fill this\n",
        "        return loss\n",
        "    \n",
        "    def validation_step(self, batch):\n",
        "        inputs, targets = batch\n",
        "        # Generate predictions\n",
        "        out = self(inputs)\n",
        "        # Calculate loss\n",
        "        loss =  F.l1_loss(out, targets)                 # fill this    \n",
        "        return {'val_loss': loss.detach()}\n",
        "        \n",
        "    def validation_epoch_end(self, outputs):\n",
        "        batch_losses = [x['val_loss'] for x in outputs]\n",
        "        epoch_loss = torch.stack(batch_losses).mean()   # Combine losses\n",
        "        return {'val_loss': epoch_loss.item()}\n",
        "    \n",
        "    def epoch_end(self, epoch, result, num_epochs):\n",
        "        # Print result every 20th epoch\n",
        "        if (epoch+1) % 20 == 0 or epoch == num_epochs-1:\n",
        "            print(\"Epoch [{}], val_loss: {:.4f}\".format(epoch+1, result['val_loss']))"
      ],
      "execution_count": 48,
      "outputs": []
    },
    {
      "cell_type": "markdown",
      "metadata": {
        "id": "6ImUmNiV5xL3"
      },
      "source": [
        "Let us create a model using the `InsuranceModel` class. You may need to come back later and re-run the next cell to reinitialize the model, in case the loss becomes `nan` or `infinity`."
      ]
    },
    {
      "cell_type": "code",
      "metadata": {
        "id": "23wh1xpN5xL4"
      },
      "source": [
        "model = InsuranceModel()"
      ],
      "execution_count": 49,
      "outputs": []
    },
    {
      "cell_type": "markdown",
      "metadata": {
        "id": "2anenr0C5xL7"
      },
      "source": [
        "Let's check out the weights and biases of the model using `model.parameters`."
      ]
    },
    {
      "cell_type": "code",
      "metadata": {
        "colab": {
          "base_uri": "https://localhost:8080/"
        },
        "id": "KKcOmR7W5xL8",
        "outputId": "aaaadf05-87e8-48dc-9f58-097a82141dfe"
      },
      "source": [
        "list(model.parameters())"
      ],
      "execution_count": 50,
      "outputs": [
        {
          "output_type": "execute_result",
          "data": {
            "text/plain": [
              "[Parameter containing:\n",
              " tensor([[-0.0797,  0.1459, -0.0603,  0.0060,  0.2973, -0.1718, -0.3438]],\n",
              "        requires_grad=True), Parameter containing:\n",
              " tensor([-0.1646], requires_grad=True)]"
            ]
          },
          "metadata": {
            "tags": []
          },
          "execution_count": 50
        }
      ]
    },
    {
      "cell_type": "markdown",
      "metadata": {
        "id": "7IAMBK305xL8"
      },
      "source": [
        "One final commit before we train the model."
      ]
    },
    {
      "cell_type": "code",
      "metadata": {
        "colab": {
          "base_uri": "https://localhost:8080/",
          "height": 86
        },
        "id": "4XU362XM5xL9",
        "outputId": "5264a992-3931-44ea-af90-5f63da370251"
      },
      "source": [
        "jovian.commit(project=project_name, environment=None)"
      ],
      "execution_count": 51,
      "outputs": [
        {
          "output_type": "stream",
          "text": [
            "[jovian] Detected Colab notebook...\u001b[0m\n",
            "[jovian] Uploading colab notebook to Jovian...\u001b[0m\n",
            "[jovian] Committed successfully! https://jovian.ai/pushpendrasharma418/02-insurance-linear-regression\u001b[0m\n"
          ],
          "name": "stdout"
        },
        {
          "output_type": "execute_result",
          "data": {
            "application/vnd.google.colaboratory.intrinsic+json": {
              "type": "string"
            },
            "text/plain": [
              "'https://jovian.ai/pushpendrasharma418/02-insurance-linear-regression'"
            ]
          },
          "metadata": {
            "tags": []
          },
          "execution_count": 51
        }
      ]
    },
    {
      "cell_type": "markdown",
      "metadata": {
        "id": "IJ4lB9115xL9"
      },
      "source": [
        "## Step 4: Train the model to fit the data\n",
        "\n",
        "To train our model, we'll use the same `fit` function explained in the lecture. That's the benefit of defining a generic training loop - you can use it for any problem."
      ]
    },
    {
      "cell_type": "code",
      "metadata": {
        "id": "X0GAZNpx5xL-"
      },
      "source": [
        "def evaluate(model, val_loader):\n",
        "    outputs = [model.validation_step(batch) for batch in val_loader]\n",
        "    return model.validation_epoch_end(outputs)\n",
        "\n",
        "def fit(epochs, lr, model, train_loader, val_loader, opt_func=torch.optim.SGD):\n",
        "    history = []\n",
        "    optimizer = opt_func(model.parameters(), lr)\n",
        "    for epoch in range(epochs):\n",
        "        # Training Phase \n",
        "        for batch in train_loader:\n",
        "            loss = model.training_step(batch)\n",
        "            loss.backward()\n",
        "            optimizer.step()\n",
        "            optimizer.zero_grad()\n",
        "        # Validation phase\n",
        "        result = evaluate(model, val_loader)\n",
        "        model.epoch_end(epoch, result, epochs)\n",
        "        history.append(result)\n",
        "    return history"
      ],
      "execution_count": 52,
      "outputs": []
    },
    {
      "cell_type": "markdown",
      "metadata": {
        "id": "-XJKGTlx5xL-"
      },
      "source": [
        "**Q: Use the `evaluate` function to calculate the loss on the validation set before training.**"
      ]
    },
    {
      "cell_type": "code",
      "metadata": {
        "colab": {
          "base_uri": "https://localhost:8080/"
        },
        "id": "G0ijV7bM5xL_",
        "outputId": "5b580852-3141-419a-ef22-b03c80144ca8"
      },
      "source": [
        "result = evaluate(model,val_loader) # Use the the evaluate function\n",
        "print(result)"
      ],
      "execution_count": 53,
      "outputs": [
        {
          "output_type": "stream",
          "text": [
            "{'val_loss': 21529.546875}\n"
          ],
          "name": "stdout"
        }
      ]
    },
    {
      "cell_type": "markdown",
      "metadata": {
        "id": "veYvnTXe5xL_"
      },
      "source": [
        "\n",
        "We are now ready to train the model. You may need to run the training loop many times, for different number of epochs and with different learning rates, to get a good result. Also, if your loss becomes too large (or `nan`), you may have to re-initialize the model by running the cell `model = InsuranceModel()`. Experiment with this for a while, and try to get to as low a loss as possible."
      ]
    },
    {
      "cell_type": "markdown",
      "metadata": {
        "id": "Y0paX3GR5xMA"
      },
      "source": [
        "**Q: Train the model 4-5 times with different learning rates & for different number of epochs.**\n",
        "\n",
        "Hint: Vary learning rates by orders of 10 (e.g. `1e-2`, `1e-3`, `1e-4`, `1e-5`, `1e-6`) to figure out what works."
      ]
    },
    {
      "cell_type": "code",
      "metadata": {
        "colab": {
          "base_uri": "https://localhost:8080/"
        },
        "id": "mdmGiXrX5xMA",
        "outputId": "83a76619-c1c3-49cb-8f24-066ebe218b79"
      },
      "source": [
        "epochs = 100\n",
        "lr = 1e-5\n",
        "history1 = fit(epochs, lr, model, train_loader, val_loader)"
      ],
      "execution_count": 60,
      "outputs": [
        {
          "output_type": "stream",
          "text": [
            "Epoch [20], val_loss: 2083.2959\n",
            "Epoch [40], val_loss: 1154.9712\n",
            "Epoch [60], val_loss: 222.5323\n",
            "Epoch [80], val_loss: 189.8055\n",
            "Epoch [100], val_loss: 363.3584\n"
          ],
          "name": "stdout"
        }
      ]
    },
    {
      "cell_type": "code",
      "metadata": {
        "id": "d3ngx0yS5xMB",
        "colab": {
          "base_uri": "https://localhost:8080/"
        },
        "outputId": "ae12f12d-cf05-46a4-ac09-26e099c1c7c6"
      },
      "source": [
        "epochs = 40\n",
        "lr = 1e-6\n",
        "history2 = fit(epochs, lr, model, train_loader, val_loader)"
      ],
      "execution_count": 62,
      "outputs": [
        {
          "output_type": "stream",
          "text": [
            "Epoch [20], val_loss: 152.5820\n",
            "Epoch [40], val_loss: 103.6478\n"
          ],
          "name": "stdout"
        }
      ]
    },
    {
      "cell_type": "code",
      "metadata": {
        "id": "Tb41pjhJ5xMC",
        "colab": {
          "base_uri": "https://localhost:8080/"
        },
        "outputId": "1b7a2cc4-f56d-4611-e28a-857ba1683755"
      },
      "source": [
        "epochs =  150\n",
        "lr = 1e-5\n",
        "history3 = fit(epochs, lr, model, train_loader, val_loader)"
      ],
      "execution_count": 69,
      "outputs": [
        {
          "output_type": "stream",
          "text": [
            "Epoch [20], val_loss: 2303.0898\n",
            "Epoch [40], val_loss: 1606.4917\n",
            "Epoch [60], val_loss: 604.1581\n",
            "Epoch [80], val_loss: 965.0938\n",
            "Epoch [100], val_loss: 974.3091\n",
            "Epoch [120], val_loss: 301.1650\n",
            "Epoch [140], val_loss: 210.3791\n",
            "Epoch [150], val_loss: 1250.2457\n"
          ],
          "name": "stdout"
        }
      ]
    },
    {
      "cell_type": "code",
      "metadata": {
        "id": "l8C44nMj5xMC",
        "colab": {
          "base_uri": "https://localhost:8080/"
        },
        "outputId": "ab93d5db-5f52-4f4d-d1ec-6fd6dafc4642"
      },
      "source": [
        "epochs = 30\n",
        "lr = 1e-3\n",
        "history4 = fit(epochs, lr, model, train_loader, val_loader)"
      ],
      "execution_count": 71,
      "outputs": [
        {
          "output_type": "stream",
          "text": [
            "Epoch [20], val_loss: 219007.5000\n",
            "Epoch [30], val_loss: 119682.0156\n"
          ],
          "name": "stdout"
        }
      ]
    },
    {
      "cell_type": "code",
      "metadata": {
        "id": "se-MUSDR5xMD",
        "colab": {
          "base_uri": "https://localhost:8080/"
        },
        "outputId": "711cd2d2-1b57-43c7-90e3-e6a90c2aa3f0"
      },
      "source": [
        "epochs = 200\n",
        "lr = 1e-5\n",
        "history5 = fit(epochs, lr, model, train_loader, val_loader)"
      ],
      "execution_count": 72,
      "outputs": [
        {
          "output_type": "stream",
          "text": [
            "Epoch [20], val_loss: 1402.7432\n",
            "Epoch [40], val_loss: 2075.4175\n",
            "Epoch [60], val_loss: 811.6742\n",
            "Epoch [80], val_loss: 1736.7235\n",
            "Epoch [100], val_loss: 2283.9185\n",
            "Epoch [120], val_loss: 1846.0811\n",
            "Epoch [140], val_loss: 120.8351\n",
            "Epoch [160], val_loss: 669.1561\n",
            "Epoch [180], val_loss: 947.2952\n",
            "Epoch [200], val_loss: 1539.5640\n"
          ],
          "name": "stdout"
        }
      ]
    },
    {
      "cell_type": "markdown",
      "metadata": {
        "id": "afgeTh_45xMD"
      },
      "source": [
        "**Q: What is the final validation loss of your model?**"
      ]
    },
    {
      "cell_type": "code",
      "metadata": {
        "id": "-0xjhCoM5xME"
      },
      "source": [
        "val_loss = 363.3584"
      ],
      "execution_count": 76,
      "outputs": []
    },
    {
      "cell_type": "markdown",
      "metadata": {
        "id": "0towaWNE5xME"
      },
      "source": [
        "Let's log the final validation loss to Jovian and commit the notebook"
      ]
    },
    {
      "cell_type": "code",
      "metadata": {
        "id": "Z3am8E9r5xMG",
        "colab": {
          "base_uri": "https://localhost:8080/"
        },
        "outputId": "3553cd30-a1ff-4706-bda7-f2cfec03b1a9"
      },
      "source": [
        "jovian.log_metrics(val_loss=val_loss)"
      ],
      "execution_count": 77,
      "outputs": [
        {
          "output_type": "stream",
          "text": [
            "[jovian] Metrics logged.\u001b[0m\n"
          ],
          "name": "stdout"
        }
      ]
    },
    {
      "cell_type": "code",
      "metadata": {
        "id": "Elv-ZdAY5xMH",
        "colab": {
          "base_uri": "https://localhost:8080/",
          "height": 103
        },
        "outputId": "c2effdb5-eb0d-4d2c-b9d6-9a5ddb1d2810"
      },
      "source": [
        "jovian.commit(project=project_name, environment=None)"
      ],
      "execution_count": 78,
      "outputs": [
        {
          "output_type": "stream",
          "text": [
            "[jovian] Detected Colab notebook...\u001b[0m\n",
            "[jovian] Uploading colab notebook to Jovian...\u001b[0m\n",
            "[jovian] Attaching records (metrics, hyperparameters, dataset etc.)\u001b[0m\n",
            "[jovian] Committed successfully! https://jovian.ai/pushpendrasharma418/02-insurance-linear-regression\u001b[0m\n"
          ],
          "name": "stdout"
        },
        {
          "output_type": "execute_result",
          "data": {
            "application/vnd.google.colaboratory.intrinsic+json": {
              "type": "string"
            },
            "text/plain": [
              "'https://jovian.ai/pushpendrasharma418/02-insurance-linear-regression'"
            ]
          },
          "metadata": {
            "tags": []
          },
          "execution_count": 78
        }
      ]
    },
    {
      "cell_type": "markdown",
      "metadata": {
        "id": "U1-MkdJX5xMH"
      },
      "source": [
        "Now scroll back up, re-initialize the model, and try different set of values for batch size, number of epochs, learning rate etc. Commit each experiment and use the \"Compare\" and \"View Diff\" options on Jovian to compare the different results."
      ]
    },
    {
      "cell_type": "markdown",
      "metadata": {
        "id": "pZWlPB2C5xMI"
      },
      "source": [
        "## Step 5: Make predictions using the trained model\n",
        "\n",
        "**Q: Complete the following function definition to make predictions on a single input**"
      ]
    },
    {
      "cell_type": "code",
      "metadata": {
        "id": "aXyGnII25xMI"
      },
      "source": [
        "def predict_single(input, target, model):\n",
        "    inputs = input.unsqueeze(0)\n",
        "    predictions = model(input)               # fill this\n",
        "    prediction = predictions[0].detach()\n",
        "    print(\"Input:\", input)\n",
        "    print(\"Target:\", target)\n",
        "    print(\"Prediction:\", prediction)"
      ],
      "execution_count": 81,
      "outputs": []
    },
    {
      "cell_type": "code",
      "metadata": {
        "id": "fpEgPopP5xMJ",
        "colab": {
          "base_uri": "https://localhost:8080/"
        },
        "outputId": "9ae8cf78-8bf5-4ff9-c4fd-8ef3858f6408"
      },
      "source": [
        "input, target = val_ds[0]\n",
        "predict_single(input, target, model)"
      ],
      "execution_count": 82,
      "outputs": [
        {
          "output_type": "stream",
          "text": [
            "Input: tensor([5.9000e+01, 1.0000e+00, 3.4749e+01, 2.0000e+00, 0.0000e+00, 2.0000e+00,\n",
            "        1.4865e+04])\n",
            "Target: tensor([14864.7686])\n",
            "Prediction: tensor(16299.4219)\n"
          ],
          "name": "stdout"
        }
      ]
    },
    {
      "cell_type": "code",
      "metadata": {
        "id": "M0_xUT905xML",
        "colab": {
          "base_uri": "https://localhost:8080/"
        },
        "outputId": "4961be99-4d1d-43eb-8688-38756f2bab90"
      },
      "source": [
        "input, target = val_ds[10]\n",
        "predict_single(input, target, model)"
      ],
      "execution_count": 83,
      "outputs": [
        {
          "output_type": "stream",
          "text": [
            "Input: tensor([3.0000e+01, 1.0000e+00, 4.1570e+01, 0.0000e+00, 1.0000e+00, 2.0000e+00,\n",
            "        4.2493e+04])\n",
            "Target: tensor([42492.7969])\n",
            "Prediction: tensor(46553.7266)\n"
          ],
          "name": "stdout"
        }
      ]
    },
    {
      "cell_type": "code",
      "metadata": {
        "id": "w0s6WUgA5xML",
        "colab": {
          "base_uri": "https://localhost:8080/"
        },
        "outputId": "744a8a15-c033-4950-eda7-5ba1fce935e5"
      },
      "source": [
        "input, target = val_ds[23]\n",
        "predict_single(input, target, model)"
      ],
      "execution_count": 84,
      "outputs": [
        {
          "output_type": "stream",
          "text": [
            "Input: tensor([  19.0000,    0.0000,   47.3850,    0.0000,    0.0000,    3.0000,\n",
            "        2023.2386])\n",
            "Target: tensor([2023.2386])\n",
            "Prediction: tensor(2223.7917)\n"
          ],
          "name": "stdout"
        }
      ]
    },
    {
      "cell_type": "markdown",
      "metadata": {
        "id": "8WAP8Ngh5xML"
      },
      "source": [
        "Are you happy with your model's predictions? Try to improve them further."
      ]
    },
    {
      "cell_type": "markdown",
      "metadata": {
        "id": "8qPypbP45xMM"
      },
      "source": [
        "## (Optional) Step 6: Try another dataset & blog about it\n",
        "\n",
        "While this last step is optional for the submission of your assignment, we highly recommend that you do it. Try to replicate this notebook for a different linear regression or logistic regression problem. This will help solidify your understanding, and give you a chance to differentiate the generic patterns in machine learning from problem-specific details.You can use one of these starer notebooks (just change the dataset):\n",
        "\n",
        "- Linear regression (minimal): https://jovian.ai/aakashns/housing-linear-minimal\n",
        "- Logistic regression (minimal): https://jovian.ai/aakashns/mnist-logistic-minimal\n",
        "\n",
        "Here are some sources to find good datasets:\n",
        "\n",
        "- https://lionbridge.ai/datasets/10-open-datasets-for-linear-regression/\n",
        "- https://www.kaggle.com/rtatman/datasets-for-regression-analysis\n",
        "- https://archive.ics.uci.edu/ml/datasets.php?format=&task=reg&att=&area=&numAtt=&numIns=&type=&sort=nameUp&view=table\n",
        "- https://people.sc.fsu.edu/~jburkardt/datasets/regression/regression.html\n",
        "- https://archive.ics.uci.edu/ml/datasets/wine+quality\n",
        "- https://pytorch.org/docs/stable/torchvision/datasets.html\n",
        "\n",
        "We also recommend that you write a blog about your approach to the problem. Here is a suggested structure for your post (feel free to experiment with it):\n",
        "\n",
        "- Interesting title & subtitle\n",
        "- Overview of what the blog covers (which dataset, linear regression or logistic regression, intro to PyTorch)\n",
        "- Downloading & exploring the data\n",
        "- Preparing the data for training\n",
        "- Creating a model using PyTorch\n",
        "- Training the model to fit the data\n",
        "- Your thoughts on how to experiment with different hyperparmeters to reduce loss\n",
        "- Making predictions using the model\n",
        "\n",
        "As with the previous assignment, you can [embed Juptyer notebook cells & outputs from Jovian](https://medium.com/jovianml/share-and-embed-jupyter-notebooks-online-with-jovian-ml-df709a03064e) into your blog. \n",
        "\n",
        "Don't forget to share your work on the forum: https://jovian.ai/forum/t/linear-regression-and-logistic-regression-notebooks-and-blog-posts/14039"
      ]
    },
    {
      "cell_type": "code",
      "metadata": {
        "id": "40UsaXVr5xMM",
        "colab": {
          "base_uri": "https://localhost:8080/",
          "height": 171
        },
        "outputId": "aece4fce-85a1-4fd0-e0ac-981353190e22"
      },
      "source": [
        "jovian.commit(project=project_name, environment=None)\n",
        "jovian.commit(project=project_name, environment=None) # try again, kaggle fails sometimes"
      ],
      "execution_count": 85,
      "outputs": [
        {
          "output_type": "stream",
          "text": [
            "[jovian] Detected Colab notebook...\u001b[0m\n",
            "[jovian] Uploading colab notebook to Jovian...\u001b[0m\n",
            "[jovian] Attaching records (metrics, hyperparameters, dataset etc.)\u001b[0m\n",
            "[jovian] Committed successfully! https://jovian.ai/pushpendrasharma418/02-insurance-linear-regression\u001b[0m\n",
            "[jovian] Detected Colab notebook...\u001b[0m\n",
            "[jovian] Uploading colab notebook to Jovian...\u001b[0m\n",
            "[jovian] Attaching records (metrics, hyperparameters, dataset etc.)\u001b[0m\n",
            "[jovian] Committed successfully! https://jovian.ai/pushpendrasharma418/02-insurance-linear-regression\u001b[0m\n"
          ],
          "name": "stdout"
        },
        {
          "output_type": "execute_result",
          "data": {
            "application/vnd.google.colaboratory.intrinsic+json": {
              "type": "string"
            },
            "text/plain": [
              "'https://jovian.ai/pushpendrasharma418/02-insurance-linear-regression'"
            ]
          },
          "metadata": {
            "tags": []
          },
          "execution_count": 85
        }
      ]
    },
    {
      "cell_type": "code",
      "metadata": {
        "id": "wX6AN9-e5xMM"
      },
      "source": [
        ""
      ],
      "execution_count": null,
      "outputs": []
    }
  ]
}