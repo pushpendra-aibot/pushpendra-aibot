{
  "cells": [
    {
      "cell_type": "markdown",
      "metadata": {
        "id": "view-in-github",
        "colab_type": "text"
      },
      "source": [
        "<a href=\"https://colab.research.google.com/github/pushpendra-aibot/Web-Scraping/blob/main/Monster_Job_Scrapper.ipynb\" target=\"_parent\"><img src=\"https://colab.research.google.com/assets/colab-badge.svg\" alt=\"Open In Colab\"/></a>"
      ]
    },
    {
      "cell_type": "code",
      "execution_count": null,
      "metadata": {
        "colab": {
          "base_uri": "https://localhost:8080/"
        },
        "id": "slVkNoEth6T7",
        "outputId": "8f30c184-fa80-4b37-aa8d-eeac22990d49"
      },
      "outputs": [
        {
          "output_type": "stream",
          "name": "stdout",
          "text": [
            "Collecting selenium\n",
            "  Downloading selenium-4.1.5-py3-none-any.whl (979 kB)\n",
            "\u001b[K     |████████████████████████████████| 979 kB 5.0 MB/s \n",
            "\u001b[?25hCollecting trio-websocket~=0.9\n",
            "  Downloading trio_websocket-0.9.2-py3-none-any.whl (16 kB)\n",
            "Collecting urllib3[secure,socks]~=1.26\n",
            "  Downloading urllib3-1.26.9-py2.py3-none-any.whl (138 kB)\n",
            "\u001b[K     |████████████████████████████████| 138 kB 58.6 MB/s \n",
            "\u001b[?25hCollecting trio~=0.17\n",
            "  Downloading trio-0.20.0-py3-none-any.whl (359 kB)\n",
            "\u001b[K     |████████████████████████████████| 359 kB 60.2 MB/s \n",
            "\u001b[?25hRequirement already satisfied: idna in /usr/local/lib/python3.7/dist-packages (from trio~=0.17->selenium) (2.10)\n",
            "Collecting sniffio\n",
            "  Downloading sniffio-1.2.0-py3-none-any.whl (10 kB)\n",
            "Requirement already satisfied: sortedcontainers in /usr/local/lib/python3.7/dist-packages (from trio~=0.17->selenium) (2.4.0)\n",
            "Collecting async-generator>=1.9\n",
            "  Downloading async_generator-1.10-py3-none-any.whl (18 kB)\n",
            "Requirement already satisfied: attrs>=19.2.0 in /usr/local/lib/python3.7/dist-packages (from trio~=0.17->selenium) (21.4.0)\n",
            "Collecting outcome\n",
            "  Downloading outcome-1.1.0-py2.py3-none-any.whl (9.7 kB)\n",
            "Collecting wsproto>=0.14\n",
            "  Downloading wsproto-1.1.0-py3-none-any.whl (24 kB)\n",
            "Requirement already satisfied: PySocks!=1.5.7,<2.0,>=1.5.6 in /usr/local/lib/python3.7/dist-packages (from urllib3[secure,socks]~=1.26->selenium) (1.7.1)\n",
            "Requirement already satisfied: certifi in /usr/local/lib/python3.7/dist-packages (from urllib3[secure,socks]~=1.26->selenium) (2021.10.8)\n",
            "Collecting cryptography>=1.3.4\n",
            "  Downloading cryptography-37.0.2-cp36-abi3-manylinux_2_24_x86_64.whl (4.0 MB)\n",
            "\u001b[K     |████████████████████████████████| 4.0 MB 42.9 MB/s \n",
            "\u001b[?25hCollecting pyOpenSSL>=0.14\n",
            "  Downloading pyOpenSSL-22.0.0-py2.py3-none-any.whl (55 kB)\n",
            "\u001b[K     |████████████████████████████████| 55 kB 3.7 MB/s \n",
            "\u001b[?25hRequirement already satisfied: cffi>=1.12 in /usr/local/lib/python3.7/dist-packages (from cryptography>=1.3.4->urllib3[secure,socks]~=1.26->selenium) (1.15.0)\n",
            "Requirement already satisfied: pycparser in /usr/local/lib/python3.7/dist-packages (from cffi>=1.12->cryptography>=1.3.4->urllib3[secure,socks]~=1.26->selenium) (2.21)\n",
            "Collecting h11<1,>=0.9.0\n",
            "  Downloading h11-0.13.0-py3-none-any.whl (58 kB)\n",
            "\u001b[K     |████████████████████████████████| 58 kB 5.6 MB/s \n",
            "\u001b[?25hRequirement already satisfied: typing-extensions in /usr/local/lib/python3.7/dist-packages (from h11<1,>=0.9.0->wsproto>=0.14->trio-websocket~=0.9->selenium) (4.2.0)\n",
            "Installing collected packages: sniffio, outcome, h11, cryptography, async-generator, wsproto, urllib3, trio, pyOpenSSL, trio-websocket, selenium\n",
            "  Attempting uninstall: urllib3\n",
            "    Found existing installation: urllib3 1.24.3\n",
            "    Uninstalling urllib3-1.24.3:\n",
            "      Successfully uninstalled urllib3-1.24.3\n",
            "\u001b[31mERROR: pip's dependency resolver does not currently take into account all the packages that are installed. This behaviour is the source of the following dependency conflicts.\n",
            "requests 2.23.0 requires urllib3!=1.25.0,!=1.25.1,<1.26,>=1.21.1, but you have urllib3 1.26.9 which is incompatible.\n",
            "datascience 0.10.6 requires folium==0.2.1, but you have folium 0.8.3 which is incompatible.\u001b[0m\n",
            "Successfully installed async-generator-1.10 cryptography-37.0.2 h11-0.13.0 outcome-1.1.0 pyOpenSSL-22.0.0 selenium-4.1.5 sniffio-1.2.0 trio-0.20.0 trio-websocket-0.9.2 urllib3-1.26.9 wsproto-1.1.0\n"
          ]
        }
      ],
      "source": [
        "!pip install selenium "
      ]
    },
    {
      "cell_type": "code",
      "source": [
        "\n",
        "\n",
        "!apt install chromium-chromedriver\n",
        "!cp /usr/lib/chromium-browser/chromedriver /usr/bin\n",
        "import sys\n",
        "sys.path.insert(0,'/usr/lib/chromium-browser/chromedriver')\n",
        "from selenium import webdriver\n",
        "chrome_options = webdriver.ChromeOptions()\n",
        "chrome_options.add_argument('--headless')\n",
        "chrome_options.add_argument('--no-sandbox')\n",
        "chrome_options.add_argument('--disable-dev-shm-usage')\n",
        "\n"
      ],
      "metadata": {
        "colab": {
          "base_uri": "https://localhost:8080/"
        },
        "id": "8luR_EsUKtH6",
        "outputId": "9dd0f5cb-75bf-4d21-ebfe-2b02ab7059e1"
      },
      "execution_count": null,
      "outputs": [
        {
          "output_type": "stream",
          "name": "stdout",
          "text": [
            "Reading package lists... Done\n",
            "Building dependency tree       \n",
            "Reading state information... Done\n",
            "The following packages were automatically installed and are no longer required:\n",
            "  libnvidia-common-460 nsight-compute-2020.2.0\n",
            "Use 'apt autoremove' to remove them.\n",
            "The following additional packages will be installed:\n",
            "  chromium-browser chromium-browser-l10n chromium-codecs-ffmpeg-extra\n",
            "Suggested packages:\n",
            "  webaccounts-chromium-extension unity-chromium-extension\n",
            "The following NEW packages will be installed:\n",
            "  chromium-browser chromium-browser-l10n chromium-chromedriver\n",
            "  chromium-codecs-ffmpeg-extra\n",
            "0 upgraded, 4 newly installed, 0 to remove and 42 not upgraded.\n",
            "Need to get 88.4 MB of archives.\n",
            "After this operation, 297 MB of additional disk space will be used.\n",
            "Get:1 http://archive.ubuntu.com/ubuntu bionic-updates/universe amd64 chromium-codecs-ffmpeg-extra amd64 100.0.4896.127-0ubuntu0.18.04.1 [1,142 kB]\n",
            "Get:2 http://archive.ubuntu.com/ubuntu bionic-updates/universe amd64 chromium-browser amd64 100.0.4896.127-0ubuntu0.18.04.1 [77.6 MB]\n",
            "Get:3 http://archive.ubuntu.com/ubuntu bionic-updates/universe amd64 chromium-browser-l10n all 100.0.4896.127-0ubuntu0.18.04.1 [4,496 kB]\n",
            "Get:4 http://archive.ubuntu.com/ubuntu bionic-updates/universe amd64 chromium-chromedriver amd64 100.0.4896.127-0ubuntu0.18.04.1 [5,190 kB]\n",
            "Fetched 88.4 MB in 2s (44.7 MB/s)\n",
            "Selecting previously unselected package chromium-codecs-ffmpeg-extra.\n",
            "(Reading database ... 155203 files and directories currently installed.)\n",
            "Preparing to unpack .../chromium-codecs-ffmpeg-extra_100.0.4896.127-0ubuntu0.18.04.1_amd64.deb ...\n",
            "Unpacking chromium-codecs-ffmpeg-extra (100.0.4896.127-0ubuntu0.18.04.1) ...\n",
            "Selecting previously unselected package chromium-browser.\n",
            "Preparing to unpack .../chromium-browser_100.0.4896.127-0ubuntu0.18.04.1_amd64.deb ...\n",
            "Unpacking chromium-browser (100.0.4896.127-0ubuntu0.18.04.1) ...\n",
            "Selecting previously unselected package chromium-browser-l10n.\n",
            "Preparing to unpack .../chromium-browser-l10n_100.0.4896.127-0ubuntu0.18.04.1_all.deb ...\n",
            "Unpacking chromium-browser-l10n (100.0.4896.127-0ubuntu0.18.04.1) ...\n",
            "Selecting previously unselected package chromium-chromedriver.\n",
            "Preparing to unpack .../chromium-chromedriver_100.0.4896.127-0ubuntu0.18.04.1_amd64.deb ...\n",
            "Unpacking chromium-chromedriver (100.0.4896.127-0ubuntu0.18.04.1) ...\n",
            "Setting up chromium-codecs-ffmpeg-extra (100.0.4896.127-0ubuntu0.18.04.1) ...\n",
            "Setting up chromium-browser (100.0.4896.127-0ubuntu0.18.04.1) ...\n",
            "update-alternatives: using /usr/bin/chromium-browser to provide /usr/bin/x-www-browser (x-www-browser) in auto mode\n",
            "update-alternatives: using /usr/bin/chromium-browser to provide /usr/bin/gnome-www-browser (gnome-www-browser) in auto mode\n",
            "Setting up chromium-chromedriver (100.0.4896.127-0ubuntu0.18.04.1) ...\n",
            "Setting up chromium-browser-l10n (100.0.4896.127-0ubuntu0.18.04.1) ...\n",
            "Processing triggers for man-db (2.8.3-2ubuntu0.1) ...\n",
            "Processing triggers for hicolor-icon-theme (0.17-2) ...\n",
            "Processing triggers for mime-support (3.60ubuntu1) ...\n",
            "Processing triggers for libc-bin (2.27-3ubuntu1.3) ...\n",
            "/sbin/ldconfig.real: /usr/local/lib/python3.7/dist-packages/ideep4py/lib/libmkldnn.so.0 is not a symbolic link\n",
            "\n",
            "cp: '/usr/lib/chromium-browser/chromedriver' and '/usr/bin/chromedriver' are the same file\n"
          ]
        },
        {
          "output_type": "stream",
          "name": "stderr",
          "text": [
            "/usr/local/lib/python3.7/dist-packages/ipykernel_launcher.py:12: DeprecationWarning: use options instead of chrome_options\n",
            "  if sys.path[0] == '':\n"
          ]
        }
      ]
    },
    {
      "cell_type": "code",
      "source": [
        "job_role = str(input()).replace(' ','%20')\n",
        "location = str(input()).replace(' ','%20')\n",
        "min_exp = str(input())\n",
        "#max_exp = str(input())\n",
        "max_results = str(input()) # limit in one page\n",
        "sort_by = str(input()) #1 for Relevance 2 for Freshness"
      ],
      "metadata": {
        "colab": {
          "base_uri": "https://localhost:8080/"
        },
        "id": "7G4L7mMDBBNV",
        "outputId": "c01d5ccd-4826-4025-a7fb-dfd335176756"
      },
      "execution_count": null,
      "outputs": [
        {
          "name": "stdout",
          "output_type": "stream",
          "text": [
            "Software Developer\n",
            "Noida\n",
            "1\n",
            "1000\n",
            "1\n"
          ]
        }
      ]
    },
    {
      "cell_type": "code",
      "execution_count": null,
      "metadata": {
        "id": "cSyvncEKhyoR"
      },
      "outputs": [],
      "source": [
        "url = 'https://www.monsterindia.com/srp/results?sort=' + sort_by+'&limit=' + max_results + '&query='+job_role+'&locations='+ location + '&experienceRanges='+min_exp+'~'+min_exp+'&experience='+min_exp#+'searchId=eb4f0cbf-d780-4bbd-a571-7fee2c86c180'"
      ]
    },
    {
      "cell_type": "code",
      "source": [
        "url = 'https://www.monsterindia.com/srp/results?start=1&limit=1000&query=Data%20Scientist&locations=Hyderabad&experienceRanges=3~3&experience=3&searchId=2ed16674-7f73-4fbe-afe1-62187e515697'"
      ],
      "metadata": {
        "id": "JWr_xqgdT0Pf"
      },
      "execution_count": null,
      "outputs": []
    },
    {
      "cell_type": "code",
      "source": [
        "from bs4 import BeautifulSoup\n",
        "import urllib.request as urllib\n",
        "import requests\n",
        "from selenium.webdriver.common.by import By\n",
        "import time\n",
        "from selenium.webdriver.common.keys import Keys\n",
        "# headers = {'User-Agent': 'Mozilla/5.0 (Macintosh; Intel Mac OS X 10_11_6) AppleWebKit/537.36 (KHTML, like Gecko) Chrome/61.0.3163.100 Safari/537.36'}\n",
        "\n",
        "#Webdriver extracting html\n",
        "wd = webdriver.Chrome('chromedriver',chrome_options=chrome_options)\n",
        "\n",
        "wd.get(url)\n",
        "time.sleep(1)\n",
        "\n",
        "elem = wd.find_element_by_tag_name(\"body\")\n",
        "\n",
        "no_of_pagedowns = 30\n",
        "\n",
        "while no_of_pagedowns:\n",
        "    elem.send_keys(Keys.PAGE_DOWN)\n",
        "    time.sleep(0.2)\n",
        "    no_of_pagedowns-=1\n",
        "\n",
        "job_links = []\n",
        "\n",
        "links = wd.find_elements(By.TAG_NAME,'a')\n",
        "for link in links:\n",
        "  if '.com/job/' in str(link.get_attribute('href')):\n",
        "    job_links.append(link.get_attribute('href')) "
      ],
      "metadata": {
        "id": "f--cLr94PvRb",
        "colab": {
          "base_uri": "https://localhost:8080/"
        },
        "outputId": "c1434179-a487-480f-89c0-a6af369d9940"
      },
      "execution_count": null,
      "outputs": [
        {
          "output_type": "stream",
          "name": "stderr",
          "text": [
            "/usr/local/lib/python3.7/dist-packages/ipykernel_launcher.py:10: DeprecationWarning: use options instead of chrome_options\n",
            "  # Remove the CWD from sys.path while we load stuff.\n",
            "/usr/local/lib/python3.7/dist-packages/ipykernel_launcher.py:15: DeprecationWarning: find_element_by_tag_name is deprecated. Please use find_element(by=By.TAG_NAME, value=name) instead\n",
            "  from ipykernel import kernelapp as app\n"
          ]
        }
      ]
    },
    {
      "cell_type": "code",
      "source": [
        "len(job_links)"
      ],
      "metadata": {
        "colab": {
          "base_uri": "https://localhost:8080/"
        },
        "id": "FUUqCM6TYo6J",
        "outputId": "c1f4a63a-2a24-4709-db1d-5068a957aef0"
      },
      "execution_count": null,
      "outputs": [
        {
          "output_type": "execute_result",
          "data": {
            "text/plain": [
              "100"
            ]
          },
          "metadata": {},
          "execution_count": 35
        }
      ]
    },
    {
      "cell_type": "code",
      "source": [
        "import pandas as pd\n",
        "club_data = pd.DataFrame(columns = ['Job Title','Company Name','Location','Experience Range','Salary Range','Job Description','Employment Type','Function','Industry','Skills','Job Link'])"
      ],
      "metadata": {
        "id": "rBayddOT8fOz"
      },
      "execution_count": null,
      "outputs": []
    },
    {
      "cell_type": "code",
      "source": [
        "from pandas.core.base import IndexOpsMixin\n",
        "\n",
        "\n",
        "for link in job_links:\n",
        "  print(link)\n",
        "  source = urllib.urlopen(link)\n",
        "# # List of WebElements\n",
        "#   elements = wd.find_elements_by_xpath(\"//*[contains(text(), 'Open Until')]\")\n",
        "\n",
        "# #iterate over all the elements found\n",
        "#   for WebElement in elements:\n",
        "#     elementHTML = WebElement.get_attribute('outerHTML') #gives exact HTML content of the element\n",
        "  elementSoup = BeautifulSoup(source,'html.parser')\n",
        "\n",
        "  job_title = elementSoup.find('div',{\"class\":\"job-tittle detail-job-tittle jd-mt-0\"}).h1.text.strip()\n",
        "\n",
        "  company_name = elementSoup.find('span',{\"class\":\"color-secondary medium mt10 fs-13\"}).text.replace('\\n','').strip()\n",
        "\n",
        "  location = elementSoup.find('small',{\"class\":\"ib\"}).text.replace('\\n','').strip()\n",
        "\n",
        "  exp_range = elementSoup.find('div',{\"class\":\"exp col-xxs-12 col-sm-3 text-ellipsis\"}).text.replace('\\n','').strip()\n",
        "\n",
        "  salary_range = elementSoup.find('span',{\"class\":\"package\"}).text.replace('\\n','').strip()\n",
        "\n",
        "  job_description = elementSoup.find('div',{\"class\":\"card-panel job-description-content lh24\"}).text\n",
        "\n",
        "  emp_details = elementSoup.find('div',{\"id\":\"jobDets\"})\n",
        "\n",
        "  emp_details = emp_details.findAll('div',{\"class\":\"job-detail-list\"})\n",
        "  details = {}\n",
        "  for emp_detail in emp_details:\n",
        "    multi_entries = []\n",
        "    all_entries = emp_detail.findAll('a')\n",
        "    for entry in all_entries:\n",
        "      multi_entries.append(entry.text.strip())\n",
        "\n",
        "    details[emp_detail.h3.text.strip()] = ', '.join(multi_entries)#.rstrip(', ')\n",
        "  try:\n",
        "    emp_type = details['Employment Types:']\n",
        "  except:\n",
        "    emp_type = ''\n",
        "  try:\n",
        "    func = details['Function:']\n",
        "  except:\n",
        "    func = ''\n",
        "  try:\n",
        "    inds = details['Industry:']\n",
        "  except:\n",
        "    inds = ''\n",
        "  try:\n",
        "    skills = details['Skills:']\n",
        "  except:\n",
        "    skills = ''\n",
        "  \n",
        "\n",
        "  club_data.loc[club_data.shape[0]] = [job_title,company_name,location,exp_range,salary_range,job_description,emp_type,func,inds,skills,link]\n",
        "\n",
        "  "
      ],
      "metadata": {
        "colab": {
          "base_uri": "https://localhost:8080/"
        },
        "id": "MoZaRnNSJemA",
        "outputId": "be67600b-7c17-4135-e45b-4e4c0a95fb05"
      },
      "execution_count": null,
      "outputs": [
        {
          "output_type": "stream",
          "name": "stdout",
          "text": [
            "https://www.monsterindia.com/job/data-scientist-freelance-2coms-consulting-private-limited-hyderabad-secunderabad-telangana-6104386?searchId=2ed16674-7f73-4fbe-afe1-62187e515697\n",
            "https://www.monsterindia.com/job/data-scientist-enablement-salesforce-hyderabad-secunderabad-telangana-india-6078952?searchId=2ed16674-7f73-4fbe-afe1-62187e515697\n",
            "https://www.monsterindia.com/job/enablement-senior-data-scientist-salesforce-hyderabad-secunderabad-telangana-india-6078950?searchId=2ed16674-7f73-4fbe-afe1-62187e515697\n",
            "https://www.monsterindia.com/job/data-scientist-i-amazon-hyderabad-secunderabad-telangana-hyderabad-uttar-pradesh-4335229?searchId=2ed16674-7f73-4fbe-afe1-62187e515697\n",
            "https://www.monsterindia.com/job/data-scientist-freelance-2coms-consulting-private-limited-hyderabad-secunderabad-telangana-6033647?searchId=2ed16674-7f73-4fbe-afe1-62187e515697\n",
            "https://www.monsterindia.com/job/data-scientist-theron-consultants-private-limited-gurgaon-gurugram-hyderabad-secunderabad-telangana-6022220?searchId=2ed16674-7f73-4fbe-afe1-62187e515697\n",
            "https://www.monsterindia.com/job/data-scientist-amazon-hyderabad-secunderabad-telangana-hyderabad-uttar-pradesh-5184045?searchId=2ed16674-7f73-4fbe-afe1-62187e515697\n",
            "https://www.monsterindia.com/job/data-scientist-amazon-india-hyderabad-uttar-pradesh-5179199?searchId=2ed16674-7f73-4fbe-afe1-62187e515697\n",
            "https://www.monsterindia.com/job/data-scientist-freelance-2coms-consulting-private-limited-hyderabad-secunderabad-telangana-5997011?searchId=2ed16674-7f73-4fbe-afe1-62187e515697\n",
            "https://www.monsterindia.com/job/data-engineer-amazon-web-services-aws-hyderabad-secunderabad-telangana-india-4116247?searchId=2ed16674-7f73-4fbe-afe1-62187e515697\n",
            "https://www.monsterindia.com/job/data-engineer-amazon-hyderabad-secunderabad-telangana-hyderabad-uttar-pradesh-4553131?searchId=2ed16674-7f73-4fbe-afe1-62187e515697\n",
            "https://www.monsterindia.com/job/data-scientist-ii-es-tech-machine-learning-amazon-hyderabad-secunderabad-telangana-5985242?searchId=2ed16674-7f73-4fbe-afe1-62187e515697\n",
            "https://www.monsterindia.com/job/data-engineer-amazon-hyderabad-secunderabad-telangana-hyderabad-uttar-pradesh-5254675?searchId=2ed16674-7f73-4fbe-afe1-62187e515697\n",
            "https://www.monsterindia.com/job/data-scientist-ii-es-tech-machine-learning-amazon-hyderabad-secunderabad-telangana-india-5977502?searchId=2ed16674-7f73-4fbe-afe1-62187e515697\n",
            "https://www.monsterindia.com/job/data-engineer-amazon-web-services-aws-india-hyderabad-uttar-pradesh-5252935?searchId=2ed16674-7f73-4fbe-afe1-62187e515697\n",
            "https://www.monsterindia.com/job/data-engineer-amazon-web-services-aws-india-hyderabad-uttar-pradesh-5252958?searchId=2ed16674-7f73-4fbe-afe1-62187e515697\n",
            "https://www.monsterindia.com/job/data-engineer-amazon-hyderabad-secunderabad-telangana-6051033?searchId=2ed16674-7f73-4fbe-afe1-62187e515697\n",
            "https://www.monsterindia.com/job/data-engineer-amazon-web-services-aws-hyderabad-secunderabad-telangana-india-4057401?searchId=2ed16674-7f73-4fbe-afe1-62187e515697\n",
            "https://www.monsterindia.com/job/applied-scientist-amazon-hyderabad-secunderabad-telangana-hyderabad-uttar-pradesh-5184153?searchId=2ed16674-7f73-4fbe-afe1-62187e515697\n",
            "https://www.monsterindia.com/job/applied-scientist-amazon-hyderabad-secunderabad-telangana-hyderabad-uttar-pradesh-4610779?searchId=2ed16674-7f73-4fbe-afe1-62187e515697\n",
            "https://www.monsterindia.com/job/data-engineer-ii-business-data-technologies-level-5-amazon-hyderabad-secunderabad-telangana-india-3911789?searchId=2ed16674-7f73-4fbe-afe1-62187e515697\n",
            "https://www.monsterindia.com/job/data-engineer-ii-bdt-l5-amazon-hyderabad-uttar-pradesh-5534929?searchId=2ed16674-7f73-4fbe-afe1-62187e515697\n",
            "https://www.monsterindia.com/job/data-engineer-ii-bdt-l5-amazon-hyderabad-uttar-pradesh-5534989?searchId=2ed16674-7f73-4fbe-afe1-62187e515697\n",
            "https://www.monsterindia.com/job/applied-scientist-i-taskless-amazon-hyderabad-secunderabad-telangana-india-6030728?searchId=2ed16674-7f73-4fbe-afe1-62187e515697\n",
            "https://www.monsterindia.com/job/applied-scientist-i-taskless-amazon-hyderabad-secunderabad-telangana-india-6030667?searchId=2ed16674-7f73-4fbe-afe1-62187e515697\n",
            "https://www.monsterindia.com/job/data-engineer-ii-amazon-hyderabad-secunderabad-telangana-hyderabad-uttar-pradesh-5529378?searchId=2ed16674-7f73-4fbe-afe1-62187e515697\n",
            "https://www.monsterindia.com/job/data-engineer-ii-amazon-hyderabad-secunderabad-telangana-hyderabad-uttar-pradesh-5529438?searchId=2ed16674-7f73-4fbe-afe1-62187e515697\n",
            "https://www.monsterindia.com/job/applied-scientist-i-taskless-amazon-hyderabad-secunderabad-telangana-6030994?searchId=2ed16674-7f73-4fbe-afe1-62187e515697\n",
            "https://www.monsterindia.com/job/data-scientist-drug-product-process-development-the-medicines-company-hyderabad-secunderabad-telangana-india-5343738?searchId=2ed16674-7f73-4fbe-afe1-62187e515697\n",
            "https://www.monsterindia.com/job/associate-data-scientist-s-p-global-market-intelligence-hyderabad-uttar-pradesh-5273692?searchId=2ed16674-7f73-4fbe-afe1-62187e515697\n",
            "https://www.monsterindia.com/job/machine-learning-engineer-gsi-salesforce-hyderabad-secunderabad-telangana-india-5715063?searchId=2ed16674-7f73-4fbe-afe1-62187e515697\n",
            "https://www.monsterindia.com/job/applied-scientist-i-amazon-hyderabad-secunderabad-telangana-hyderabad-uttar-pradesh-5518141?searchId=2ed16674-7f73-4fbe-afe1-62187e515697\n",
            "https://www.monsterindia.com/job/data-scientist-amazon-hyderabad-secunderabad-telangana-5911885?searchId=2ed16674-7f73-4fbe-afe1-62187e515697\n",
            "https://www.monsterindia.com/job/data-scientist-payments-uber-india-hyderabad-uttar-pradesh-5211098?searchId=2ed16674-7f73-4fbe-afe1-62187e515697\n",
            "https://www.monsterindia.com/job/senior-analyst-internal-audit-data-scientist-l-09-synchrony-financial-hyderabad-secunderabad-telangana-india-5382380?searchId=2ed16674-7f73-4fbe-afe1-62187e515697\n",
            "https://www.monsterindia.com/job/data-scientist-indianpac-india-hyderabad-uttar-pradesh-4901445?searchId=2ed16674-7f73-4fbe-afe1-62187e515697\n",
            "https://www.monsterindia.com/job/lead-data-scientist-analytics-sutherland-global-services-hyderabad-secunderabad-telangana-india-3020274?searchId=2ed16674-7f73-4fbe-afe1-62187e515697\n",
            "https://www.monsterindia.com/job/lead-data-scientist-advance-auto-parts-hyderabad-secunderabad-telangana-india-6001001?searchId=2ed16674-7f73-4fbe-afe1-62187e515697\n",
            "https://www.monsterindia.com/job/data-scientist-corporate-resources-india-hyderabad-uttar-pradesh-5506146?searchId=2ed16674-7f73-4fbe-afe1-62187e515697\n",
            "https://www.monsterindia.com/job/lead-data-engineer-sutherland-global-services-hyderabad-secunderabad-telangana-india-4116128?searchId=2ed16674-7f73-4fbe-afe1-62187e515697\n",
            "https://www.monsterindia.com/job/associate-data-science-engineer-smart-mfg-ai-micron-hyderabad-secunderabad-telangana-india-5345827?searchId=2ed16674-7f73-4fbe-afe1-62187e515697\n",
            "https://www.monsterindia.com/job/associate-data-science-engineer-smart-mfg-ai-micron-semiconductor-asia-operations-pte-ltd-hyderabad-secunderabad-telangana-india-5338776?searchId=2ed16674-7f73-4fbe-afe1-62187e515697\n",
            "https://www.monsterindia.com/job/senior-data-science-engineer-smai-micron-hyderabad-secunderabad-telangana-india-6086178?searchId=2ed16674-7f73-4fbe-afe1-62187e515697\n",
            "https://www.monsterindia.com/job/senior-data-science-engineer-smai-micron-semiconductor-asia-operations-pte-ltd-hyderabad-secunderabad-telangana-india-6087303?searchId=2ed16674-7f73-4fbe-afe1-62187e515697\n",
            "https://www.monsterindia.com/job/staff-engineer-data-scientist-micron-semiconductor-asia-operations-pte-ltd-hyderabad-secunderabad-telangana-india-5976187?searchId=2ed16674-7f73-4fbe-afe1-62187e515697\n",
            "https://www.monsterindia.com/job/data-scientist-3-8-yrs-agreeya-solutions-india-private-limited-hyderabad-secunderabad-telangana-1608273?searchId=2ed16674-7f73-4fbe-afe1-62187e515697\n",
            "https://www.monsterindia.com/job/field-application-scientist-thermo-fisher-scientific-hyderabad-secunderabad-telangana-india-5638779?searchId=2ed16674-7f73-4fbe-afe1-62187e515697\n",
            "https://www.monsterindia.com/job/field-application-scientist-thermo-fisher-scientific-hyderabad-secunderabad-telangana-india-5638779?searchId=2ed16674-7f73-4fbe-afe1-62187e515697\n",
            "https://www.monsterindia.com/job/rwe-data-analyst-scientist-sanofi-india-hyderabad-uttar-pradesh-5437162?searchId=2ed16674-7f73-4fbe-afe1-62187e515697\n",
            "https://www.monsterindia.com/job/data-scientist-engineer-artificial-intelligence-engineer-bengaluru-bangalore-hyderabad-secunderabad-telangana-5863762?searchId=2ed16674-7f73-4fbe-afe1-62187e515697\n",
            "https://www.monsterindia.com/job/data-engineer-amazon-web-services-aws-india-hyderabad-uttar-pradesh-4493784?searchId=2ed16674-7f73-4fbe-afe1-62187e515697\n",
            "https://www.monsterindia.com/job/data-engineer-amazon-web-services-aws-india-hyderabad-uttar-pradesh-4493354?searchId=2ed16674-7f73-4fbe-afe1-62187e515697\n",
            "https://www.monsterindia.com/job/data-scientist-ciel-hr-services-hyderabad-secunderabad-telangana-india-5924939?searchId=2ed16674-7f73-4fbe-afe1-62187e515697\n",
            "https://www.monsterindia.com/job/ml-qa-engineer-pubmatic-hyderabad-secunderabad-telangana-india-5987762?searchId=2ed16674-7f73-4fbe-afe1-62187e515697\n",
            "https://www.monsterindia.com/job/manager-data-science-micron-semiconductor-asia-operations-pte-ltd-hyderabad-secunderabad-telangana-india-5976327?searchId=2ed16674-7f73-4fbe-afe1-62187e515697\n",
            "https://www.monsterindia.com/job/data-science-engineer-smai-micron-semiconductor-asia-operations-pte-ltd-hyderabad-secunderabad-telangana-india-5976202?searchId=2ed16674-7f73-4fbe-afe1-62187e515697\n",
            "https://www.monsterindia.com/job/sr-data-science-engineer-smai-micron-semiconductor-asia-operations-pte-ltd-hyderabad-secunderabad-telangana-india-5976215?searchId=2ed16674-7f73-4fbe-afe1-62187e515697\n",
            "https://www.monsterindia.com/job/gp-coe-bi-analyst-micron-semiconductor-asia-operations-pte-ltd-hyderabad-secunderabad-telangana-india-5976291?searchId=2ed16674-7f73-4fbe-afe1-62187e515697\n",
            "https://www.monsterindia.com/job/big-data-hadoop-spark-engineer-sr-engineer-smai-micron-semiconductor-asia-operations-pte-ltd-hyderabad-secunderabad-telangana-india-5976043?searchId=2ed16674-7f73-4fbe-afe1-62187e515697\n",
            "https://www.monsterindia.com/job/data-scientist-freelance-2coms-consulting-private-limited-hyderabad-secunderabad-telangana-5847046?searchId=2ed16674-7f73-4fbe-afe1-62187e515697\n",
            "https://www.monsterindia.com/job/data-scientist-python-with-sql-offline-agreeya-solutions-india-private-limited-bengaluru-bangalore-hyderabad-secunderabad-telangana-5912010?searchId=2ed16674-7f73-4fbe-afe1-62187e515697\n",
            "https://www.monsterindia.com/job/lead-data-scientist-analytics-sutherland-global-services-hyderabad-secunderabad-telangana-india-5903414?searchId=2ed16674-7f73-4fbe-afe1-62187e515697\n",
            "https://www.monsterindia.com/job/dg-manager-data-scientist-genpact-hyderabad-uttar-pradesh-5320748?searchId=2ed16674-7f73-4fbe-afe1-62187e515697\n",
            "https://www.monsterindia.com/job/field-application-scientist-ciel-hr-services-hyderabad-secunderabad-telangana-india-5982420?searchId=2ed16674-7f73-4fbe-afe1-62187e515697\n",
            "https://www.monsterindia.com/job/solution-architect-smart-mfg-ai-micron-hyderabad-secunderabad-telangana-india-5944498?searchId=2ed16674-7f73-4fbe-afe1-62187e515697\n",
            "https://www.monsterindia.com/job/data-science-engineer-smai-micron-semiconductor-asia-operations-pte-ltd-hyderabad-secunderabad-telangana-india-5937249?searchId=2ed16674-7f73-4fbe-afe1-62187e515697\n",
            "https://www.monsterindia.com/job/data-engineer-ii-amazon-web-services-aws-hyderabad-secunderabad-telangana-india-3142055?searchId=2ed16674-7f73-4fbe-afe1-62187e515697\n",
            "https://www.monsterindia.com/job/data-engineer-ii-amazon-web-services-aws-hyderabad-secunderabad-telangana-india-3109343?searchId=2ed16674-7f73-4fbe-afe1-62187e515697\n",
            "https://www.monsterindia.com/job/data-manager-machine-learning-advance-auto-parts-india-hyderabad-uttar-pradesh-4795716?searchId=2ed16674-7f73-4fbe-afe1-62187e515697\n",
            "https://www.monsterindia.com/job/data-science-engineer-smai-micron-hyderabad-secunderabad-telangana-india-5909385?searchId=2ed16674-7f73-4fbe-afe1-62187e515697\n",
            "https://www.monsterindia.com/job/pricing-analyst-data-science-advance-auto-parts-hyderabad-secunderabad-telangana-india-4833582?searchId=2ed16674-7f73-4fbe-afe1-62187e515697\n",
            "https://www.monsterindia.com/job/staff-engineer-data-scientist-micron-semiconductor-asia-operations-pte-ltd-india-hyderabad-uttar-pradesh-4559815?searchId=2ed16674-7f73-4fbe-afe1-62187e515697\n",
            "https://www.monsterindia.com/job/data-scientist-ubs-hyderabad-secunderabad-telangana-india-4933208?searchId=2ed16674-7f73-4fbe-afe1-62187e515697\n",
            "https://www.monsterindia.com/job/manager-data-science-micron-semiconductor-asia-operations-pte-ltd-hyderabad-secunderabad-telangana-india-5784998?searchId=2ed16674-7f73-4fbe-afe1-62187e515697\n",
            "https://www.monsterindia.com/job/gp-coe-bi-analyst-micron-semiconductor-asia-operations-pte-ltd-hyderabad-secunderabad-telangana-india-5688592?searchId=2ed16674-7f73-4fbe-afe1-62187e515697\n",
            "https://www.monsterindia.com/job/big-data-hadoop-spark-engineer-sr-engineer-smai-micron-semiconductor-asia-operations-pte-ltd-hyderabad-secunderabad-telangana-india-5801558?searchId=2ed16674-7f73-4fbe-afe1-62187e515697\n",
            "https://www.monsterindia.com/job/data-engineer-ab-data-analytics-and-insights-amazon-hyderabad-secunderabad-telangana-5788566?searchId=2ed16674-7f73-4fbe-afe1-62187e515697\n",
            "https://www.monsterindia.com/job/data-engineer-ab-data-analytics-and-insights-amazon-web-services-aws-hyderabad-secunderabad-telangana-5787729?searchId=2ed16674-7f73-4fbe-afe1-62187e515697\n",
            "https://www.monsterindia.com/job/data-engineer-ab-data-analytics-and-insights-amazon-web-services-aws-hyderabad-secunderabad-telangana-india-5779671?searchId=2ed16674-7f73-4fbe-afe1-62187e515697\n",
            "https://www.monsterindia.com/job/data-engineer-i-pricing-advance-auto-parts-hyderabad-secunderabad-telangana-india-4785927?searchId=2ed16674-7f73-4fbe-afe1-62187e515697\n",
            "https://www.monsterindia.com/job/data-science-software-engineer-onpassive-technologies-private-limited-hyderabad-secunderabad-telangana-5740919?searchId=2ed16674-7f73-4fbe-afe1-62187e515697\n",
            "https://www.monsterindia.com/job/lead-staff-data-engineer-hadoop-spark-smai-micron-hyderabad-secunderabad-telangana-5794967?searchId=2ed16674-7f73-4fbe-afe1-62187e515697\n",
            "https://www.monsterindia.com/job/big-data-hadoop-spark-engineer-sr-engineer-smai-micron-hyderabad-secunderabad-telangana-5794963?searchId=2ed16674-7f73-4fbe-afe1-62187e515697\n",
            "https://www.monsterindia.com/job/manager-data-science-micron-hyderabad-secunderabad-telangana-india-5785579?searchId=2ed16674-7f73-4fbe-afe1-62187e515697\n",
            "https://www.monsterindia.com/job/cs-science-sr-scientist-glaxosmithkline-pte-ltd-hyderabad-secunderabad-telangana-india-5784204?searchId=2ed16674-7f73-4fbe-afe1-62187e515697\n",
            "https://www.monsterindia.com/job/applied-scientist-ii-taskless-amazon-hyderabad-secunderabad-telangana-5713762?searchId=2ed16674-7f73-4fbe-afe1-62187e515697\n",
            "https://www.monsterindia.com/job/applied-scientist-ii-taskless-amazon-hyderabad-secunderabad-telangana-india-5711159?searchId=2ed16674-7f73-4fbe-afe1-62187e515697\n",
            "https://www.monsterindia.com/job/applied-scientist-ii-taskless-amazon-hyderabad-secunderabad-telangana-india-5708092?searchId=2ed16674-7f73-4fbe-afe1-62187e515697\n",
            "https://www.monsterindia.com/job/applied-scientist-i-amazon-business-amazon-hyderabad-secunderabad-telangana-5295352?searchId=2ed16674-7f73-4fbe-afe1-62187e515697\n",
            "https://www.monsterindia.com/job/data-scientist-freelance-2coms-consulting-private-limited-hyderabad-secunderabad-telangana-5652978?searchId=2ed16674-7f73-4fbe-afe1-62187e515697\n",
            "https://www.monsterindia.com/job/data-scientist-lead-ani-calls-india-private-limited-hyderabad-secunderabad-telangana-india-1671014?searchId=2ed16674-7f73-4fbe-afe1-62187e515697\n",
            "https://www.monsterindia.com/job/data-scientist-lead-ani-calls-india-private-limited-hyderabad-secunderabad-telangana-india-1669418?searchId=2ed16674-7f73-4fbe-afe1-62187e515697\n",
            "https://www.monsterindia.com/job/gp-coe-bi-analyst-micron-hyderabad-secunderabad-telangana-india-5689870?searchId=2ed16674-7f73-4fbe-afe1-62187e515697\n",
            "https://www.monsterindia.com/job/ml-qa-engineer-pubmatic-hyderabad-secunderabad-telangana-india-5643167?searchId=2ed16674-7f73-4fbe-afe1-62187e515697\n",
            "https://www.monsterindia.com/job/data-scientist-hyderabad-secunderabad-telangana-5051025?searchId=2ed16674-7f73-4fbe-afe1-62187e515697\n",
            "https://www.monsterindia.com/job/data-scientist-labridge-consulting-hyderabad-secunderabad-telangana-5251139?searchId=2ed16674-7f73-4fbe-afe1-62187e515697\n",
            "https://www.monsterindia.com/job/senior-hr-recruiter-freelancer-challakula-sharadha-hyderabad-secunderabad-telangana-4994670?searchId=2ed16674-7f73-4fbe-afe1-62187e515697\n",
            "https://www.monsterindia.com/job/data-scientist-god-swill-management-consultants-hyderabad-secunderabad-telangana-pune-5445787?searchId=2ed16674-7f73-4fbe-afe1-62187e515697\n",
            "https://www.monsterindia.com/job/lead-data-scientist-100-remote-part-time-full-time-qssot-technologies-private-limited-bengaluru-bangalore-hyderabad-secunderabad-telangana-5393336?searchId=2ed16674-7f73-4fbe-afe1-62187e515697\n",
            "https://www.monsterindia.com/job/data-scientist-avance-consulting-services-private-limited-hyderabad-secunderabad-telangana-4695423?searchId=2ed16674-7f73-4fbe-afe1-62187e515697\n"
          ]
        }
      ]
    },
    {
      "cell_type": "code",
      "source": [
        "club_data.shape"
      ],
      "metadata": {
        "colab": {
          "base_uri": "https://localhost:8080/"
        },
        "id": "NGO73KwuSD_h",
        "outputId": "d6891ae6-edd3-402d-9f57-a31c62022dfe"
      },
      "execution_count": null,
      "outputs": [
        {
          "output_type": "execute_result",
          "data": {
            "text/plain": [
              "(100, 11)"
            ]
          },
          "metadata": {},
          "execution_count": 34
        }
      ]
    },
    {
      "cell_type": "code",
      "source": [
        "club_data.to_excel(r'Monster data.xlsx', index = False)"
      ],
      "metadata": {
        "id": "gIzwOmGj4CbK"
      },
      "execution_count": null,
      "outputs": []
    },
    {
      "cell_type": "code",
      "source": [
        ""
      ],
      "metadata": {
        "id": "f6b8f0m37d0W"
      },
      "execution_count": null,
      "outputs": []
    }
  ],
  "metadata": {
    "colab": {
      "name": "Monster_Job Scrapper.ipynb",
      "provenance": [],
      "collapsed_sections": [],
      "authorship_tag": "ABX9TyP0G9dGXhuUJ72m/FQOu9EW",
      "include_colab_link": true
    },
    "kernelspec": {
      "display_name": "Python 3",
      "name": "python3"
    },
    "language_info": {
      "name": "python"
    }
  },
  "nbformat": 4,
  "nbformat_minor": 0
}